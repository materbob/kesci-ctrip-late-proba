{
 "cells": [
  {
   "cell_type": "code",
   "execution_count": null,
   "metadata": {
    "collapsed": true
   },
   "outputs": [],
   "source": [
    "import pandas as pd\n",
    "import numpy as np\n",
    "import time\n",
    "from tqdm import tqdm\n",
    "import datetime as datetime"
   ]
  },
  {
   "cell_type": "markdown",
   "metadata": {},
   "source": [
    "# 将整理好的训练数据和测试集数据读取"
   ]
  },
  {
   "cell_type": "code",
   "execution_count": null,
   "metadata": {
    "collapsed": true
   },
   "outputs": [],
   "source": [
    "train_data=pd.read_csv('train_data_ready.csv',encoding='gbk')\n",
    "test_data=pd.read_csv('testC_ready.csv',encoding='gbk')"
   ]
  },
  {
   "cell_type": "code",
   "execution_count": null,
   "metadata": {
    "collapsed": true
   },
   "outputs": [],
   "source": [
    "train_testA=pd.read_csv('train_testA_ready.csv',encoding='gbk')\n",
    "train_testB=pd.read_csv('train_testB_ready.csv',encoding='gbk')\n",
    "train_testC=pd.read_csv('train_testC_ready.csv',encoding='gbk')"
   ]
  },
  {
   "cell_type": "markdown",
   "metadata": {},
   "source": [
    "# 对读取好的数据进行合并，生成完整的训练数据"
   ]
  },
  {
   "cell_type": "code",
   "execution_count": null,
   "metadata": {
    "collapsed": true
   },
   "outputs": [],
   "source": [
    "train_data=pd.concat([train_data,train_testA,train_testB,train_testC],axis=0)"
   ]
  },
  {
   "cell_type": "markdown",
   "metadata": {},
   "source": [
    "# 根据航班数据的信息，对数据进行去重"
   ]
  },
  {
   "cell_type": "code",
   "execution_count": null,
   "metadata": {
    "collapsed": true
   },
   "outputs": [],
   "source": [
    "train_data=train_data.drop_duplicates(['出发机场', '到达机场', '航班编号', '计划起飞时间', '计划到达时间', '飞机编号'])"
   ]
  },
  {
   "cell_type": "code",
   "execution_count": null,
   "metadata": {
    "collapsed": true
   },
   "outputs": [],
   "source": [
    "test_data=test_data.drop_duplicates(['出发机场', '到达机场', '航班编号', '计划起飞时间', '计划到达时间', '飞机编号'])"
   ]
  },
  {
   "cell_type": "markdown",
   "metadata": {},
   "source": [
    "# 保存去重后的测试集数据，用来在最后的生成提交结果"
   ]
  },
  {
   "cell_type": "code",
   "execution_count": null,
   "metadata": {
    "collapsed": true
   },
   "outputs": [],
   "source": [
    "test_data.to_csv('test_data.csv',sep=',',header=True,index=False,encoding='utf-8')"
   ]
  },
  {
   "cell_type": "markdown",
   "metadata": {},
   "source": [
    "# 根据训练数据，可以生成几个字典，用来区分数据，包括天气的字典，不同航班公司的字典，以及航班是单程、返程或加班的字典。"
   ]
  },
  {
   "cell_type": "code",
   "execution_count": null,
   "metadata": {
    "collapsed": true
   },
   "outputs": [],
   "source": [
    "dict_0={np.nan:0\n",
    ",'暴雪':1\n",
    ",'暴雪转大雪':2\n",
    ",'暴雪转小雪':3\n",
    ",'暴雪转阵雪':4\n",
    ",'暴雪转中雪':5\n",
    ",'暴雨':6\n",
    ",'暴雨转大暴雨':7\n",
    ",'暴雨转大雨':8\n",
    ",'暴雨转多云':9\n",
    ",'暴雨转雷阵雨':10\n",
    ",'暴雨转小雨':11\n",
    ",'暴雨转阴':12\n",
    ",'暴雨转阵雨':13\n",
    ",'暴雨转中雨':14\n",
    ",'大暴雨转暴雨':15\n",
    ",'大暴雨转大雨':16\n",
    ",'大暴雨转小雨':17\n",
    ",'大暴雨转中雨':18\n",
    ",'大到暴雨':19\n",
    ",'大到暴雨转小雨':20\n",
    ",'大雪':21\n",
    ",'大雪转多云':22\n",
    ",'大雪转小雪':23\n",
    ",'大雪转阴':24\n",
    ",'大雪转阵雪':25\n",
    ",'大雪转中雪':26\n",
    ",'大雨':27\n",
    ",'大雨转暴雨':28\n",
    ",'大雨转大暴雨':29\n",
    ",'大雨转多云':30\n",
    ",'大雨转雷阵雨':31\n",
    ",'大雨转晴':32\n",
    ",'大雨转小雨':33\n",
    ",'大雨转阴':34\n",
    ",'大雨转雨夹雪':35\n",
    ",'大雨转阵雨':36\n",
    ",'大雨转中雨':37\n",
    ",'冻雨转小雪':38\n",
    ",'冻雨转阴':39\n",
    ",'多云':40\n",
    ",'多云转暴雨':41\n",
    ",'多云转大雪':42\n",
    ",'多云转大雨':43\n",
    ",'多云转浮尘':44\n",
    ",'多云转雷阵雨':45\n",
    ",'多云转浓雾':46\n",
    ",'多云转晴':47\n",
    ",'多云转沙尘暴':48\n",
    ",'多云转雾':49\n",
    ",'多云转小雪':50\n",
    ",'多云转小雨':51\n",
    ",'多云转扬沙':52\n",
    ",'多云转阴':53\n",
    ",'多云转雨夹雪':54\n",
    ",'多云转阵雪':55\n",
    ",'多云转阵雨':56\n",
    ",'多云转中雪':57\n",
    ",'多云转中雨':58\n",
    ",'浮尘':59\n",
    ",'浮尘转多云':60\n",
    ",'浮尘转晴':61\n",
    ",'浮尘转沙尘暴':62\n",
    ",'浮尘转小雪':63\n",
    ",'浮尘转小雨':64\n",
    ",'浮尘转扬沙':65\n",
    ",'浮尘转阴':66\n",
    ",'浮尘转阵雨':67\n",
    ",'雷阵雨':68\n",
    ",'雷阵雨转暴雨':69\n",
    ",'雷阵雨转大暴雨':70\n",
    ",'雷阵雨转大雨':71\n",
    ",'雷阵雨转多云':72\n",
    ",'雷阵雨转晴':73\n",
    ",'雷阵雨转雾':74\n",
    ",'雷阵雨转小雨':75\n",
    ",'雷阵雨转扬沙':76\n",
    ",'雷阵雨转阴':77\n",
    ",'雷阵雨转阵雨':78\n",
    ",'雷阵雨转中到大雨':79\n",
    ",'雷阵雨转中雨':80\n",
    ",'浓雾转多云':81\n",
    ",'浓雾转雾':82\n",
    ",'晴':83\n",
    ",'晴转大雨':84\n",
    ",'晴转多云':85\n",
    ",'晴转浮尘':86\n",
    ",'晴转雷阵雨':87\n",
    ",'晴转沙尘暴':88\n",
    ",'晴转雾':89\n",
    ",'晴转小雪':90\n",
    ",'晴转小雨':91\n",
    ",'晴转扬沙':92\n",
    ",'晴转阴':93\n",
    ",'晴转雨夹雪':94\n",
    ",'晴转阵雪':95\n",
    ",'晴转阵雨':96\n",
    ",'晴转中雪':97\n",
    ",'晴转中雨':98\n",
    ",'沙尘暴转浮尘':99\n",
    ",'沙尘暴转小雨':100\n",
    ",'沙尘暴转扬沙':101\n",
    ",'沙尘暴转阵雨':102\n",
    ",'雾':103\n",
    ",'雾转多云':104\n",
    ",'雾转雷阵雨':105\n",
    ",'雾转晴':106\n",
    ",'雾转小雪':107\n",
    ",'雾转小雨':108\n",
    ",'雾转阴':109\n",
    ",'雾转雨夹雪':110\n",
    ",'雾转阵雪':111\n",
    ",'雾转阵雨':112\n",
    ",'雾转中度霾':113\n",
    ",'雾转中雪':114\n",
    ",'雾转中雨':115\n",
    ",'小到中雪':116\n",
    ",'小到中雨':117\n",
    ",'小到中雨转小雨':118\n",
    ",'小到中雨转中雨':119\n",
    ",'小雪':120\n",
    ",'小雪转暴雪':121\n",
    ",'小雪转大雪':122\n",
    ",'小雪转多云':123\n",
    ",'小雪转晴':124\n",
    ",'小雪转雾':125\n",
    ",'小雪转小雨':126\n",
    ",'小雪转阴':127\n",
    ",'小雪转雨夹雪':128\n",
    ",'小雪转阵雪':129\n",
    ",'小雪转阵雨':130\n",
    ",'小雪转中雪':131\n",
    ",'小雨':132\n",
    ",'小雨转暴雪':133\n",
    ",'小雨转暴雨':134\n",
    ",'小雨转大雪':135\n",
    ",'小雨转大雨':136\n",
    ",'小雨转冻雨':137\n",
    ",'小雨转多云':138\n",
    ",'小雨转雷阵雨':139\n",
    ",'小雨转晴':140\n",
    ",'小雨转雾':141\n",
    ",'小雨转小雪':142\n",
    ",'小雨转扬沙':143\n",
    ",'小雨转阴':144\n",
    ",'小雨转雨夹雪':145\n",
    ",'小雨转阵雪':146\n",
    ",'小雨转阵雨':147\n",
    ",'小雨转中雪':148\n",
    ",'小雨转中雨':149\n",
    ",'扬沙':150\n",
    ",'扬沙转多云':151\n",
    ",'扬沙转浮尘':152\n",
    ",'扬沙转晴':153\n",
    ",'扬沙转沙尘暴':154\n",
    ",'扬沙转小雪':155\n",
    ",'扬沙转小雨':156\n",
    ",'扬沙转阴':157\n",
    ",'扬沙转阵雨':158\n",
    ",'阴':159\n",
    ",'阴转暴雨':160\n",
    ",'阴转大暴雨':161\n",
    ",'阴转大雪':162\n",
    ",'阴转大雨':163\n",
    ",'阴转多云':164\n",
    ",'阴转浮尘':165\n",
    ",'阴转雷阵雨':166\n",
    ",'阴转晴':167\n",
    ",'阴转雾':168\n",
    ",'阴转小雪':169\n",
    ",'阴转小雨':170\n",
    ",'阴转扬沙':171\n",
    ",'阴转雨夹雪':172\n",
    ",'阴转阵雪':173\n",
    ",'阴转阵雨':174\n",
    ",'阴转中雪':175\n",
    ",'阴转中雨':176\n",
    ",'雨夹雪':177\n",
    ",'雨夹雪转暴雪':178\n",
    ",'雨夹雪转大雪':179\n",
    ",'雨夹雪转多云':180\n",
    ",'雨夹雪转晴':181\n",
    ",'雨夹雪转雾':182\n",
    ",'雨夹雪转小雪':183\n",
    ",'雨夹雪转小雨':184\n",
    ",'雨夹雪转阴':185\n",
    ",'雨夹雪转阵雪':186\n",
    ",'雨夹雪转中雪':187\n",
    ",'雨夹雪转中雨':188\n",
    ",'阵雪':189\n",
    ",'阵雪转多云':190\n",
    ",'阵雪转晴':191\n",
    ",'阵雪转雾':192\n",
    ",'阵雪转小雪':193\n",
    ",'阵雪转小雨':194\n",
    ",'阵雪转阴':195\n",
    ",'阵雪转雨夹雪':196\n",
    ",'阵雪转中雪':197\n",
    ",'阵雨':198\n",
    ",'阵雨转暴雨':199\n",
    ",'阵雨转大暴雨':200\n",
    ",'阵雨转大雨':201\n",
    ",'阵雨转多云':202\n",
    ",'阵雨转浮尘':203\n",
    ",'阵雨转雷阵雨':204\n",
    ",'阵雨转晴':205\n",
    ",'阵雨转雾':206\n",
    ",'阵雨转小到中雨':207\n",
    ",'阵雨转小雪':208\n",
    ",'阵雨转小雨':209\n",
    ",'阵雨转阴':210\n",
    ",'阵雨转雨夹雪':211\n",
    ",'阵雨转阵雪':212\n",
    ",'阵雨转中雨':213\n",
    ",'中到大雪':214\n",
    ",'中到大雨':215\n",
    ",'中到大雨转小雨':216\n",
    ",'中到大雨转中雨':217\n",
    ",'中度霾转雾':218\n",
    ",'中雪':219\n",
    ",'中雪转暴雪':220\n",
    ",'中雪转大雪':221\n",
    ",'中雪转多云':222\n",
    ",'中雪转晴':223\n",
    ",'中雪转小雪':224\n",
    ",'中雪转阴':225\n",
    ",'中雪转雨夹雪':226\n",
    ",'中雪转阵雪':227\n",
    ",'中雨':228\n",
    ",'中雨转暴雨':229\n",
    ",'中雨转大暴雨':230\n",
    ",'中雨转大雨':231\n",
    ",'中雨转多云':232\n",
    ",'中雨转雷阵雨':233\n",
    ",'中雨转晴':234\n",
    ",'中雨转小雪':235\n",
    ",'中雨转小雨':236\n",
    ",'中雨转阴':237\n",
    ",'中雨转雨夹雪':238\n",
    ",'中雨转阵雪':239\n",
    ",'中雨转阵雨':240\n",
    ",'中雨转中雪':241\n",
    ",'重度霾转雾':242\n",
    ",'部分多云':243}"
   ]
  },
  {
   "cell_type": "code",
   "execution_count": null,
   "metadata": {
    "collapsed": true
   },
   "outputs": [],
   "source": [
    "dict_1={'3K':1\n",
    ",'3U':2\n",
    ",'4U':3\n",
    ",'5J':4\n",
    ",'6E':5\n",
    ",'7C':6\n",
    ",'8L':7\n",
    ",'9C':8\n",
    ",'9H':9\n",
    ",'9W':10\n",
    ",'A6':11\n",
    ",'AA':12\n",
    ",'AC':13\n",
    ",'AD':14\n",
    ",'AE':15\n",
    ",'AF':16\n",
    ",'AH':17\n",
    ",'AI':18\n",
    ",'AK':19\n",
    ",'AM':20\n",
    ",'AQ':21\n",
    ",'AY':22\n",
    ",'AZ':23\n",
    ",'B6':24\n",
    ",'BA':25\n",
    ",'BE':26\n",
    ",'BI':27\n",
    ",'BK':28\n",
    ",'BM':29\n",
    ",'BR':30\n",
    ",'BX':31\n",
    ",'CA':32\n",
    ",'CF':33\n",
    ",'CK':34\n",
    ",'CN':35\n",
    ",'CX':36\n",
    ",'CZ':37\n",
    ",'D7':38\n",
    ",'DD':39\n",
    ",'DG':40\n",
    ",'DL':41\n",
    ",'DR':42\n",
    ",'DY':43\n",
    ",'DZ':44\n",
    ",'E3':45\n",
    ",'EI':46\n",
    ",'EK':47\n",
    ",'EU':48\n",
    ",'EY':49\n",
    ",'F9':50\n",
    ",'FD':51\n",
    ",'FE':52\n",
    ",'FI':53\n",
    ",'FJ':54\n",
    ",'FM':55\n",
    ",'FU':56\n",
    ",'G5':57\n",
    ",'GA':58\n",
    ",'GJ':59\n",
    ",'GS':60\n",
    ",'GT':61\n",
    ",'GX':62\n",
    ",'GY':63\n",
    ",'H9':64\n",
    ",'HG':65\n",
    ",'HO':66\n",
    ",'HU':67\n",
    ",'HX':68\n",
    ",'HY':69\n",
    ",'IB':70\n",
    ",'IR':71\n",
    ",'IZ':72\n",
    ",'JD':73\n",
    ",'JL':74\n",
    ",'JQ':75\n",
    ",'JR':76\n",
    ",'JT':77\n",
    ",'JU':78\n",
    ",'KC':79\n",
    ",'KE':80\n",
    ",'KL':81\n",
    ",'KN':82\n",
    ",'KQ':83\n",
    ",'KY':84\n",
    ",'LA':85\n",
    ",'LG':86\n",
    ",'LH':87\n",
    ",'LT':88\n",
    ",'LX':89\n",
    ",'MF':90\n",
    ",'MH':91\n",
    ",'MI':92\n",
    ",'MJ':93\n",
    ",'MK':94\n",
    ",'MM':95\n",
    ",'MN':96\n",
    ",'MS':97\n",
    ",'MU':98\n",
    ",'NH':99\n",
    ",'NS':100\n",
    ",'NX':101\n",
    ",'NZ':102\n",
    ",'O3':103\n",
    ",'O8':104\n",
    ",'OB':105\n",
    ",'OD':106\n",
    ",'OK':107\n",
    ",'OM':108\n",
    ",'OQ':109\n",
    ",'OS':110\n",
    ",'OX':111\n",
    ",'OZ':112\n",
    ",'PC':113\n",
    ",'PG':114\n",
    ",'PN':115\n",
    ",'PR':116\n",
    ",'PS':117\n",
    ",'QF':118\n",
    ",'QR':119\n",
    ",'QV':120\n",
    ",'QW':121\n",
    ",'QZ':122\n",
    ",'RO':123\n",
    ",'RY':124\n",
    ",'S7':125\n",
    ",'SA':126\n",
    ",'SC':127\n",
    ",'SK':128\n",
    ",'SL':129\n",
    ",'SN':130\n",
    ",'SQ':131\n",
    ",'SU':132\n",
    ",'SV':133\n",
    ",'TG':134\n",
    ",'TK':135\n",
    ",'TP':136\n",
    ",'TR':137\n",
    ",'TT':138\n",
    ",'TV':139\n",
    ",'TW':140\n",
    ",'TZ':141\n",
    ",'UA':142\n",
    ",'UL':143\n",
    ",'UQ':144\n",
    ",'UU':145\n",
    ",'UX':146\n",
    ",'VA':147\n",
    ",'VJ':148\n",
    ",'VN':149\n",
    ",'VS':150\n",
    ",'VY':151\n",
    ",'W6':152\n",
    ",'WE':153\n",
    ",'WP':154\n",
    ",'WS':155\n",
    ",'Y4':156\n",
    ",'Y8':157\n",
    ",'YI':158\n",
    ",'Z2':159\n",
    ",'ZA':160\n",
    ",'ZE':161\n",
    ",'ZH':162\n",
    ",'ZL':163\n",
    "}"
   ]
  },
  {
   "cell_type": "code",
   "execution_count": null,
   "metadata": {
    "collapsed": true
   },
   "outputs": [],
   "source": [
    "dict_2={np.nan:1\n",
    ",'0B':2\n",
    ",'7M':3\n",
    ",'4':4\n",
    ",'7N':5\n",
    ",'Z':6\n",
    ",'4A':7\n",
    ",'6J':8\n",
    ",'8H':9\n",
    ",'7A':10\n",
    ",'4C':11\n",
    ",'A':12\n",
    ",'M':13\n",
    ",'8N':14\n",
    ",'4L':15\n",
    ",'9B':16\n",
    ",'R':17\n",
    ",'3N':18\n",
    ",'8':19\n",
    ",'5S':20\n",
    ",'3I':21\n",
    ",'4P':22\n",
    ",'54':23\n",
    ",'9F':24\n",
    ",'5C':25\n",
    ",'1D':26\n",
    ",'0D':27\n",
    ",'3H':28\n",
    ",'2':29\n",
    ",'0A':30\n",
    ",'S':31\n",
    ",'2N':32\n",
    ",'5N':33\n",
    ",'O':34\n",
    ",'6N':35\n",
    ",'Y':36\n",
    ",'1N':37\n",
    ",'5L':38\n",
    ",'7':39\n",
    ",'9G':40\n",
    ",'4E':41\n",
    ",'9J':42\n",
    ",'3E':43\n",
    ",'6X':44\n",
    ",'4O':45\n",
    ",'0O':46\n",
    ",'W':47\n",
    ",'F':48\n",
    ",'4G':49\n",
    ",'4F':50\n",
    ",'1Y':51\n",
    ",'6K':52\n",
    ",'I':53\n",
    ",'L':54\n",
    ",'6D':55\n",
    ",'2A':56\n",
    ",'7L':57\n",
    ",'T':58\n",
    ",'H':59\n",
    ",'6I':60\n",
    ",'C':61\n",
    ",'9N':62\n",
    ",'J':63\n",
    ",'4D':64\n",
    ",'6B':65\n",
    ",'3A':66\n",
    ",'N':67\n",
    ",'Q':68\n",
    ",'5D':69\n",
    ",'5Y':70\n",
    ",'5B':71\n",
    ",'9C':72\n",
    ",'1':73\n",
    ",'9':74\n",
    ",'X':75\n",
    ",'B':76\n",
    ",'1A':77\n",
    ",'5R':78\n",
    ",'0N':79\n",
    ",'6P':80\n",
    ",'2B':81\n",
    ",'V':82\n",
    ",'8L':83\n",
    ",'3':84\n",
    ",'9D':85\n",
    ",'5A':86\n",
    ",'8A':87\n",
    ",'G':88\n",
    ",'0':89\n",
    ",'6T':90\n",
    ",'3L':91\n",
    ",'3D':92\n",
    ",'6A':93\n",
    ",'P':94\n",
    ",'9E':95\n",
    ",'5X':96\n",
    ",'4N':97\n",
    ",'E':98\n",
    ",'3B':99\n",
    ",'6H':100\n",
    ",'6Y':101\n",
    ",'U':102\n",
    ",'7Y':103\n",
    ",'8R':104\n",
    ",'6':105\n",
    ",'9A':106\n",
    ",'2V':107\n",
    ",'5':108\n",
    ",'8B':109\n",
    ",'D':110\n",
    ",'K':111\n",
    ",'6F':112\n",
    ",'9O':113\n",
    ",'1B':114\n",
    ",'4B':115\n",
    ",'1I':116}"
   ]
  },
  {
   "cell_type": "markdown",
   "metadata": {},
   "source": [
    "# 对初步整理的训练数据和测试数据，进行部分处理，包括航班信息提取、天气信息提取、特情信息提取等"
   ]
  },
  {
   "cell_type": "code",
   "execution_count": null,
   "metadata": {
    "collapsed": true
   },
   "outputs": [],
   "source": [
    "def get_feature_train_data(df):\n",
    "    feature_data=pd.get_dummies(df['year'],prefix='year')\n",
    "    feature_data['month']=df['month']\n",
    "    feature_data['day']=df['day']\n",
    "    feature_data['take_hour']=df['take_hour']\n",
    "    feature_data['take_minute']=df['take_minute']\n",
    "    feature_data['off_hour']=df['off_hour']\n",
    "    feature_data['off_minute']=df['off_minute']\n",
    "    feature_data['from']=df['from']\n",
    "    feature_data['to']=df['to']\n",
    "    feature_data['出发机场']=df['出发机场']\n",
    "    feature_data['到达机场']=df['到达机场']\n",
    "    feature_data['航班编号']=df['航班编号']        \n",
    "    feature_data['飞机编号']=df['飞机编号'].fillna(0)\n",
    "    feature_data['出天气']=df['出天气'].map(dict_0)\n",
    "    feature_data['出天气']=feature_data['出天气'].fillna(0)\n",
    "    feature_data['出min']=df['出min'].fillna(16)\n",
    "    feature_data['出max']=df['出max'].fillna(25)\n",
    "    feature_data['出_range']=feature_data['出max']-feature_data['出min']\n",
    "    feature_data['到天气']=df['到天气'].map(dict_0)\n",
    "    feature_data['到天气']=feature_data['到天气'].fillna(0)  \n",
    "    feature_data['到min']=df['到min'].fillna(df['到min'].mean())\n",
    "    feature_data['到max']=df['到max'].fillna(df['到max'].mean())\n",
    "    feature_data['到_range']=feature_data['到max']-feature_data['到min']\n",
    "    feature_data['出_inflect']=df['出_inflect']\n",
    "    feature_data['到_inflect']=df['到_inflect']\n",
    "    feature_data['出set']=(df['出set'].fillna(0))*df['出_inflect']\n",
    "    feature_data['到set']=(df['到set'].fillna(0))*df['到_inflect']\n",
    "    feature_data['company']=df['company'].map(dict_1)\n",
    "    feature_data['go_to']=df['go_to'].map(dict_2)\n",
    "    feature_data['result']=df['result']\n",
    "    return feature_data"
   ]
  },
  {
   "cell_type": "code",
   "execution_count": null,
   "metadata": {
    "collapsed": true
   },
   "outputs": [],
   "source": [
    "def get_feature_test_data(df):\n",
    "    feature_data=pd.DataFrame()\n",
    "    feature_data['year_2015']=0\n",
    "    feature_data['year_2016']=0\n",
    "    feature_data['year_2017']=1\n",
    "    feature_data['month']=df['month']\n",
    "    feature_data['day']=df['day']\n",
    "    feature_data['take_hour']=df['take_hour']\n",
    "    feature_data['take_minute']=df['take_minute']\n",
    "    feature_data['off_hour']=df['off_hour']\n",
    "    feature_data['off_minute']=df['off_minute']\n",
    "    feature_data['from']=df['from']\n",
    "    feature_data['to']=df['to']\n",
    "    feature_data['出发机场']=df['出发机场']\n",
    "    feature_data['到达机场']=df['到达机场']\n",
    "    feature_data['航班编号']=df['航班编号']        \n",
    "    feature_data['飞机编号']=df['飞机编号'].fillna(0)\n",
    "    feature_data['出天气']=df['出天气'].map(dict_0)\n",
    "    feature_data['出天气']=feature_data['出天气'].fillna(0)\n",
    "    feature_data['出min']=df['出min'].fillna(16)\n",
    "    feature_data['出max']=df['出max'].fillna(25)\n",
    "    feature_data['出_range']=feature_data['出max']-feature_data['出min']\n",
    "    feature_data['到天气']=df['到天气'].map(dict_0)\n",
    "    feature_data['到天气']=feature_data['到天气'].fillna(0)  \n",
    "    feature_data['到min']=df['到min'].fillna(df['到min'].mean())\n",
    "    feature_data['到max']=df['到max'].fillna(df['到max'].mean())\n",
    "    feature_data['到_range']=feature_data['到max']-feature_data['到min']\n",
    "    feature_data['出_inflect']=df['出_inflect']\n",
    "    feature_data['到_inflect']=df['到_inflect']    \n",
    "    feature_data['出set']=(df['出set'].fillna(0))*df['出_inflect']\n",
    "    feature_data['到set']=(df['到set'].fillna(0))*df['到_inflect']\n",
    "    feature_data['company']=df['company'].map(dict_1)\n",
    "    feature_data['go_to']=df['go_to'].map(dict_2).fillna(1)\n",
    "    return feature_data"
   ]
  },
  {
   "cell_type": "code",
   "execution_count": null,
   "metadata": {
    "collapsed": true
   },
   "outputs": [],
   "source": [
    "train_x=get_feature_train_data(train_data)"
   ]
  },
  {
   "cell_type": "code",
   "execution_count": null,
   "metadata": {
    "collapsed": true
   },
   "outputs": [],
   "source": [
    "test_x=get_feature_test_data(test_data)\n",
    "test_x['year_2015']=0\n",
    "test_x['year_2016']=0\n",
    "test_x['year_2017']=1"
   ]
  },
  {
   "cell_type": "markdown",
   "metadata": {},
   "source": [
    "# 对出发机场的特征提取，包括：机场出现的总次数、机场延误的总次数、机场的延误率、出发机场的目的机场个数、目的机场延误的机场个数、目的机场延误机场占机场个数的比重、目的机场最大、最小、平均的延误次数"
   ]
  },
  {
   "cell_type": "code",
   "execution_count": null,
   "metadata": {
    "collapsed": true
   },
   "outputs": [],
   "source": [
    "def table_star_feature(train_data):\n",
    "    table_star_airport=train_data[['出发机场']]\n",
    "    table_star_airport['star_airport_count']=1\n",
    "    table_star_airport=table_star_airport.groupby(['出发机场']).agg('sum').reset_index()\n",
    "    t1=train_data[['出发机场','result']]\n",
    "    t1['star_airport_late_count']=1\n",
    "    t1=t1.groupby(['出发机场','result']).agg('sum').reset_index()\n",
    "    t1_late=t1[t1['result']==1]\n",
    "    t1_no_late=t1[t1['result']==0]\n",
    "    t1_no_late.rename(columns={'star_airport_late_count':'star_airport_no_late'},inplace=True)\n",
    "    table_star_airport=pd.merge(table_star_airport,t1_late.drop(['result'],axis=1),on='出发机场',how='left').fillna(0)\n",
    "    table_star_airport=pd.merge(table_star_airport,t1_no_late.drop(['result'],axis=1),on='出发机场',how='left').fillna(0)\n",
    "    table_star_airport['star_airport_late_rate']=table_star_airport.star_airport_late_count.astype('float')/table_star_airport.star_airport_count.astype('float')\n",
    "    t1_star_arr=train_data[['出发机场','到达机场','result']]\n",
    "    t1_star_arr['star_airport_num_count']=1\n",
    "    t1_star_arr=t1_star_arr.groupby(['出发机场','到达机场','result']).agg('sum').reset_index()\n",
    "    t1_star_arr_num=t1_star_arr.drop_duplicates(['出发机场','到达机场']).groupby(['出发机场'])['到达机场'].agg('count').reset_index()\n",
    "    t1_star_arr_num_late=t1_star_arr[t1_star_arr['result']==1]\n",
    "    t1_star_arr_num_late_num=t1_star_arr_num_late.groupby(['出发机场'])['到达机场'].agg('count').reset_index()\n",
    "    t1_star_arr_num_late_num.rename(columns={'到达机场':'star_arr_late_num'},inplace=True)\n",
    "    t1_star_arr_num.rename(columns={'到达机场':'star_arr_num'},inplace=True)\n",
    "    table_star_airport=pd.merge(table_star_airport,t1_star_arr_num,on='出发机场',how='left').fillna(0)\n",
    "    table_star_airport=pd.merge(table_star_airport,t1_star_arr_num_late_num,on='出发机场',how='left').fillna(0)\n",
    "    table_star_airport['d_star_late_rate']=table_star_airport.star_arr_late_num.astype('float')/table_star_airport.star_arr_num.astype('float')\n",
    "    t1_max_late_num=t1_star_arr[t1_star_arr['result']==1].groupby(['出发机场'])['star_airport_num_count'].agg('max').reset_index()\n",
    "    t1_max_late_num.rename(columns={'star_airport_num_count':'star_airport_max_count'},inplace=True)\n",
    "    t1_min_late_num=t1_star_arr[t1_star_arr['result']==1].groupby(['出发机场'])['star_airport_num_count'].agg('min').reset_index()\n",
    "    t1_min_late_num.rename(columns={'star_airport_num_count':'star_airport_min_count'},inplace=True)\n",
    "    table_star_airport=pd.merge(table_star_airport,t1_max_late_num,on='出发机场',how='left').fillna(0)\n",
    "    table_star_airport=pd.merge(table_star_airport,t1_min_late_num,on='出发机场',how='left').fillna(0)\n",
    "    table_star_airport['d_star_late_mean']=table_star_airport.star_airport_late_count.astype('float')/table_star_airport.star_arr_num.astype('float')\n",
    "    return table_star_airport"
   ]
  },
  {
   "cell_type": "code",
   "execution_count": null,
   "metadata": {
    "collapsed": true
   },
   "outputs": [],
   "source": [
    "table_star_airport=table_star_feature(train_x)"
   ]
  },
  {
   "cell_type": "markdown",
   "metadata": {},
   "source": [
    "# 对目的机场的特征提取、目的机场的总次数、目的机场延误次数、目的机场的延误率、目的机场的出发机场个数，延误的出发机场个数、延误机场占出发机场个数的比重、出发机场的最大、最小、平均延误次数"
   ]
  },
  {
   "cell_type": "code",
   "execution_count": null,
   "metadata": {
    "collapsed": true
   },
   "outputs": [],
   "source": [
    "def table_arr_feature(train_data):\n",
    "    table_star_airport=train_data[['到达机场']]\n",
    "    table_star_airport['arr_airport_count']=1\n",
    "    table_star_airport=table_star_airport.groupby(['到达机场']).agg('sum').reset_index()\n",
    "    t1=train_data[['到达机场','result']]\n",
    "    t1['arr_airport_late_count']=1\n",
    "    t1=t1.groupby(['到达机场','result']).agg('sum').reset_index()\n",
    "    t1_late=t1[t1['result']==1]\n",
    "    t1_no_late=t1[t1['result']==0]\n",
    "    t1_no_late.rename(columns={'arr_airport_late_count':'arr_airport_no_late'},inplace=True)\n",
    "    table_star_airport=pd.merge(table_star_airport,t1_late.drop(['result'],axis=1),on='到达机场',how='left').fillna(0)\n",
    "    table_star_airport=pd.merge(table_star_airport,t1_no_late.drop(['result'],axis=1),on='到达机场',how='left').fillna(0)\n",
    "    table_star_airport['arr_airport_late_rate']=table_star_airport.arr_airport_late_count.astype('float')/table_star_airport.arr_airport_count.astype('float')\n",
    "    t1_star_arr=train_data[['出发机场','到达机场','result']]\n",
    "    t1_star_arr['arr_airport_num_count']=1\n",
    "    t1_star_arr=t1_star_arr.groupby(['出发机场','到达机场','result']).agg('sum').reset_index()\n",
    "    t1_star_arr_num=t1_star_arr.drop_duplicates(['出发机场','到达机场']).groupby(['到达机场'])['出发机场'].agg('count').reset_index()\n",
    "    t1_star_arr_num_late=t1_star_arr[t1_star_arr['result']==1]\n",
    "    t1_star_arr_num_late_num=t1_star_arr_num_late.groupby(['到达机场'])['出发机场'].agg('count').reset_index()\n",
    "    t1_star_arr_num_late_num.rename(columns={'出发机场':'arr_star_late_num'},inplace=True)\n",
    "    t1_star_arr_num.rename(columns={'出发机场':'arr_star_num'},inplace=True)\n",
    "    table_star_airport=pd.merge(table_star_airport,t1_star_arr_num,on='到达机场',how='left').fillna(0)\n",
    "    table_star_airport=pd.merge(table_star_airport,t1_star_arr_num_late_num,on='到达机场',how='left').fillna(0)\n",
    "    table_star_airport['d_arr_late_rate']=table_star_airport.arr_star_late_num.astype('float')/table_star_airport.arr_star_num.astype('float')\n",
    "    t1_max_late_num=t1_star_arr[t1_star_arr['result']==1].groupby(['到达机场'])['arr_airport_num_count'].agg('max').reset_index()\n",
    "    t1_max_late_num.rename(columns={'arr_airport_num_count':'arr_airport_max_count'},inplace=True)\n",
    "    t1_min_late_num=t1_star_arr[t1_star_arr['result']==1].groupby(['到达机场'])['arr_airport_num_count'].agg('min').reset_index()\n",
    "    t1_min_late_num.rename(columns={'arr_airport_num_count':'arr_airport_min_count'},inplace=True)\n",
    "    table_star_airport=pd.merge(table_star_airport,t1_max_late_num,on='到达机场',how='left').fillna(0)\n",
    "    table_star_airport=pd.merge(table_star_airport,t1_min_late_num,on='到达机场',how='left').fillna(0)\n",
    "    table_star_airport['d_arr_late_mean']=table_star_airport.arr_airport_late_count.astype('float')/table_star_airport.arr_star_num.astype('float')\n",
    "    return table_star_airport"
   ]
  },
  {
   "cell_type": "code",
   "execution_count": null,
   "metadata": {
    "collapsed": true
   },
   "outputs": [],
   "source": [
    "table_arr_airport=table_arr_feature(train_x)"
   ]
  },
  {
   "cell_type": "markdown",
   "metadata": {},
   "source": [
    "# 航班编号的特征提取，航班的总次数、航班的延误次数、航班的延误率、航班对应的出发机场个数、延误的出发机场种类个数、延误的机场个数占出发机场的比重、延误航班的出发机场的最大、最小、平均次数，航班对应到达机场的个数，延误的到达机场种类个数，延误机场个数占机场个数的比重、延误航班的到达机场最大、最小、平均次数"
   ]
  },
  {
   "cell_type": "code",
   "execution_count": null,
   "metadata": {
    "collapsed": true
   },
   "outputs": [],
   "source": [
    "def table_flight_feature_get(train_data):\n",
    "    table_flight_feature=train_data[['航班编号']]\n",
    "    table_flight_feature['flight_count']=1\n",
    "    table_flight_feature=table_flight_feature.groupby(['航班编号']).agg('sum').reset_index()\n",
    "    t3=train_data[['航班编号','result']]\n",
    "    t3['flight_late_count']=1\n",
    "    t3=t3.groupby(['航班编号','result']).agg('sum').reset_index()\n",
    "    t3_late=t3[t3['result']==1]\n",
    "    t3_no_late=t3[t3['result']==0]\n",
    "    t3_no_late.rename(columns={'flight_late_count':'flight_no_late'},inplace=True)\n",
    "    table_flight_feature=pd.merge(table_flight_feature,t3_late.drop(['result'],axis=1),on='航班编号',how='left').fillna(0)\n",
    "    table_flight_feature=pd.merge(table_flight_feature,t3_no_late.drop(['result'],axis=1),on='航班编号',how='left').fillna(0)\n",
    "    table_flight_feature['flight_late_rate']=table_flight_feature.flight_late_count.astype('float')/table_flight_feature.flight_count.astype('float')\n",
    "    t3_flight=train_data[['航班编号','出发机场','result']]\n",
    "    t3_flight['flight_star_num_count']=1\n",
    "    t3_flight=t3_flight.groupby(['航班编号','出发机场','result']).agg('sum').reset_index()\n",
    "    t3_flight_star_num=t3_flight.drop_duplicates(['航班编号','出发机场']).groupby(['航班编号'])['出发机场'].agg('count').reset_index()\n",
    "    t3_flight_star_num_late=t3_flight[t3_flight['result']==1]\n",
    "    t3_flight_star_num_late_num=t3_flight_star_num_late.groupby(['航班编号'])['出发机场'].agg('count').reset_index()\n",
    "    t3_flight_star_num_late_num.rename(columns={'出发机场':'flight_star_late_num'},inplace=True)\n",
    "    t3_flight_star_num.rename(columns={'出发机场':'flight_star_num'},inplace=True)\n",
    "    table_flight_feature=pd.merge(table_flight_feature,t3_flight_star_num,on='航班编号',how='left').fillna(0)\n",
    "    table_flight_feature=pd.merge(table_flight_feature,t3_flight_star_num_late_num,on='航班编号',how='left').fillna(0)\n",
    "    table_flight_feature['d_star_flight_late_rate']=table_flight_feature.flight_star_late_num.astype('float')/table_flight_feature.flight_star_num.astype('float')\n",
    "    t3_flight_max_late_num=t3_flight[t3_flight['result']==1].groupby(['航班编号'])['flight_star_num_count'].agg('max').reset_index()\n",
    "    t3_flight_max_late_num.rename(columns={'flight_star_num_count':'flight_star_max_count'},inplace=True)\n",
    "    t3_flight_min_late_num=t3_flight[t3_flight['result']==1].groupby(['航班编号'])['flight_star_num_count'].agg('min').reset_index()\n",
    "    t3_flight_min_late_num.rename(columns={'flight_star_num_count':'flight_star_min_count'},inplace=True)\n",
    "    table_flight_feature=pd.merge(table_flight_feature,t3_flight_max_late_num,on='航班编号',how='left').fillna(0)\n",
    "    table_flight_feature=pd.merge(table_flight_feature,t3_flight_min_late_num,on='航班编号',how='left').fillna(0)\n",
    "    table_flight_feature['d_star_flight_late_mean']=table_flight_feature.flight_late_count.astype('float')/table_flight_feature.flight_star_num.astype('float')\n",
    "    t3_flight1=train_data[['航班编号','到达机场','result']]\n",
    "    t3_flight1['flight_arr_num_count']=1\n",
    "    t3_flight1=t3_flight1.groupby(['航班编号','到达机场','result']).agg('sum').reset_index()\n",
    "    t3_flight_arr_num=t3_flight1.drop_duplicates(['航班编号','到达机场']).groupby(['航班编号'])['到达机场'].agg('count').reset_index()\n",
    "    t3_flight_arr_num_late=t3_flight1[t3_flight1['result']==1]\n",
    "    t3_flight_arr_num_late_num=t3_flight_arr_num_late.groupby(['航班编号'])['到达机场'].agg('count').reset_index()\n",
    "    t3_flight_arr_num_late_num.rename(columns={'到达机场':'flight_arr_late_num'},inplace=True)\n",
    "    t3_flight_arr_num.rename(columns={'到达机场':'flight_arr_num'},inplace=True)\n",
    "    table_flight_feature=pd.merge(table_flight_feature,t3_flight_arr_num,on='航班编号',how='left').fillna(0)\n",
    "    table_flight_feature=pd.merge(table_flight_feature,t3_flight_arr_num_late_num,on='航班编号',how='left').fillna(0)\n",
    "    table_flight_feature['d_arr_flight_late_rate']=table_flight_feature.flight_arr_late_num.astype('float')/table_flight_feature.flight_arr_num.astype('float')\n",
    "    t3_flight_max_late_num1=t3_flight1[t3_flight1['result']==1].groupby(['航班编号'])['flight_arr_num_count'].agg('max').reset_index()\n",
    "    t3_flight_max_late_num1.rename(columns={'flight_arr_num_count':'flight_arr_max_count'},inplace=True)\n",
    "    t3_flight_min_late_num1=t3_flight1[t3_flight1['result']==1].groupby(['航班编号'])['flight_arr_num_count'].agg('min').reset_index()\n",
    "    t3_flight_min_late_num1.rename(columns={'flight_arr_num_count':'flight_arr_min_count'},inplace=True)\n",
    "    table_flight_feature=pd.merge(table_flight_feature,t3_flight_max_late_num1,on='航班编号',how='left').fillna(0)\n",
    "    table_flight_feature=pd.merge(table_flight_feature,t3_flight_min_late_num1,on='航班编号',how='left').fillna(0)\n",
    "    table_flight_feature['d_arr_flight_late_mean']=table_flight_feature.flight_late_count.astype('float')/table_flight_feature.flight_arr_num.astype('float')\n",
    "    return table_flight_feature"
   ]
  },
  {
   "cell_type": "code",
   "execution_count": null,
   "metadata": {
    "collapsed": true
   },
   "outputs": [],
   "source": [
    "table_flight_feature=table_flight_feature_get(train_x)"
   ]
  },
  {
   "cell_type": "markdown",
   "metadata": {},
   "source": [
    "# 飞机编号特征提取，不同飞机的总次数，延误的飞机次数，不同飞机的延误率，飞机的航班种类个数，飞机延误的航班种类个数及其比重，飞机不同航班延误的最大，最小，平均次数"
   ]
  },
  {
   "cell_type": "code",
   "execution_count": null,
   "metadata": {
    "collapsed": true
   },
   "outputs": [],
   "source": [
    "def table_plane_feature_get(train_data):    \n",
    "    table_plane_feature=train_data[['飞机编号']]\n",
    "    table_plane_feature['plane_count']=1\n",
    "    table_plane_feature=table_plane_feature.groupby(['飞机编号']).agg('sum').reset_index()\n",
    "    t4=train_data[['飞机编号','result']]\n",
    "    t4['plane_late_count']=1\n",
    "    t4=t4.groupby(['飞机编号','result']).agg('sum').reset_index()\n",
    "    t4_late=t4[t4['result']==1]\n",
    "    t4_no_late=t4[t4['result']==0]\n",
    "    t4_no_late.rename(columns={'plane_late_count':'plane_no_late'},inplace=True)\n",
    "    table_plane_feature=pd.merge(table_plane_feature,t4_late.drop(['result'],axis=1),on='飞机编号',how='left').fillna(0)\n",
    "    table_plane_feature=pd.merge(table_plane_feature,t4_no_late.drop(['result'],axis=1),on='飞机编号',how='left').fillna(0)\n",
    "    table_plane_feature['plane_late_rate']=table_plane_feature.plane_late_count.astype('float')/table_plane_feature.plane_count.astype('float')\n",
    "    t4_plane=train_data[['飞机编号','航班编号','result']]\n",
    "    t4_plane['plane_flight_num_count']=1\n",
    "    t4_plane=t4_plane.groupby(['飞机编号','航班编号','result']).agg('sum').reset_index()\n",
    "    t4_plane_flight_num=t4_plane.drop_duplicates(['飞机编号','航班编号']).groupby(['飞机编号'])['航班编号'].agg('count').reset_index()\n",
    "    t4_plane_flight_num_late=t4_plane[t4_plane['result']==1]\n",
    "    t4_plane_flight_num_late_num=t4_plane_flight_num_late.groupby(['飞机编号'])['航班编号'].agg('count').reset_index()\n",
    "    t4_plane_flight_num_late_num.rename(columns={'航班编号':'plane_flight_late_num'},inplace=True)\n",
    "    t4_plane_flight_num.rename(columns={'航班编号':'plane_flight_num'},inplace=True)\n",
    "    table_plane_feature=pd.merge(table_plane_feature,t4_plane_flight_num,on='飞机编号',how='left').fillna(0)\n",
    "    table_plane_feature=pd.merge(table_plane_feature,t4_plane_flight_num_late_num,on='飞机编号',how='left').fillna(0)\n",
    "    table_plane_feature['d_plane_flight_late_rate']=table_plane_feature.plane_flight_late_num.astype('float')/table_plane_feature.plane_flight_num.astype('float')\n",
    "    t4_plane_max_late_num=t4_plane[t4_plane['result']==1].groupby(['飞机编号'])['plane_flight_num_count'].agg('max').reset_index()\n",
    "    t4_plane_max_late_num.rename(columns={'plane_flight_num_count':'plane_flight_max_count'},inplace=True)\n",
    "    t4_plane_min_late_num=t4_plane[t4_plane['result']==1].groupby(['飞机编号'])['plane_flight_num_count'].agg('min').reset_index()\n",
    "    t4_plane_min_late_num.rename(columns={'plane_flight_num_count':'plane_flight_min_count'},inplace=True)\n",
    "    table_plane_feature=pd.merge(table_plane_feature,t4_plane_max_late_num,on='飞机编号',how='left').fillna(0)\n",
    "    table_plane_feature=pd.merge(table_plane_feature,t4_plane_min_late_num,on='飞机编号',how='left').fillna(0)\n",
    "    table_plane_feature['d_plane_flight_late_mean']=table_plane_feature.plane_late_count.astype('float')/table_plane_feature.plane_flight_num.astype('float')\n",
    "    return table_plane_feature"
   ]
  },
  {
   "cell_type": "code",
   "execution_count": null,
   "metadata": {
    "collapsed": true
   },
   "outputs": [],
   "source": [
    "table_plane_feature=table_plane_feature_get(train_x)"
   ]
  },
  {
   "cell_type": "markdown",
   "metadata": {},
   "source": [
    "# 出发机场天气的特征提取，不同天气航班安排的总次数，延误次数，以及延误率，出发机场不同天气航班种类个数，延误航班种类个数及其占的比重，出发机场天气不同航班的最大，最小，平均延误次数"
   ]
  },
  {
   "cell_type": "code",
   "execution_count": null,
   "metadata": {
    "collapsed": true
   },
   "outputs": [],
   "source": [
    "def table_star_weather_feature_get(train_data):    \n",
    "    table_star_weather_feature=train_data[['出天气']]\n",
    "    table_star_weather_feature['s_weather_count']=1\n",
    "    table_star_weather_feature=table_star_weather_feature.groupby(['出天气']).agg('sum').reset_index()\n",
    "    t5=train_data[['出天气','result']]\n",
    "    t5['s_weather_late_count']=1\n",
    "    t5=t5.groupby(['出天气','result']).agg('sum').reset_index()\n",
    "    t5_late=t5[t5['result']==1]\n",
    "    t5_no_late=t5[t5['result']==0]\n",
    "    t5_no_late.rename(columns={'s_weather_late_count':'s_weather_no_late'},inplace=True)\n",
    "    table_star_weather_feature=pd.merge(table_star_weather_feature,t5_late.drop(['result'],axis=1),on='出天气',how='left').fillna(0)\n",
    "    table_star_weather_feature=pd.merge(table_star_weather_feature,t5_no_late.drop(['result'],axis=1),on='出天气',how='left').fillna(0)\n",
    "    table_star_weather_feature['s_weather_late_rate']=table_star_weather_feature.s_weather_late_count.astype('float')/table_star_weather_feature.s_weather_count.astype('float')\n",
    "    t5_s_weather=train_data[['出天气','航班编号','result']]\n",
    "    t5_s_weather['s_weather_flight_num_count']=1\n",
    "    t5_s_weather=t5_s_weather.groupby(['出天气','航班编号','result']).agg('sum').reset_index()\n",
    "    t5_s_weather_flight_num=t5_s_weather.drop_duplicates(['出天气','航班编号']).groupby(['出天气'])['航班编号'].agg('count').reset_index()\n",
    "    t5_s_weather_flight_num_late=t5_s_weather[t5_s_weather['result']==1]\n",
    "    t5_s_weather_flight_num_late_num=t5_s_weather_flight_num_late.groupby(['出天气'])['航班编号'].agg('count').reset_index()\n",
    "    t5_s_weather_flight_num_late_num.rename(columns={'航班编号':'s_weather_flight_late_num'},inplace=True)\n",
    "    t5_s_weather_flight_num.rename(columns={'航班编号':'s_weather_flight_num'},inplace=True)\n",
    "    table_star_weather_feature=pd.merge(table_star_weather_feature,t5_s_weather_flight_num,on='出天气',how='left').fillna(0)\n",
    "    table_star_weather_feature=pd.merge(table_star_weather_feature,t5_s_weather_flight_num_late_num,on='出天气',how='left').fillna(0)\n",
    "    table_star_weather_feature['d_s_weather_flight_late_rate']=table_star_weather_feature.s_weather_flight_late_num.astype('float')/table_star_weather_feature.s_weather_flight_num.astype('float')\n",
    "    t5_s_weather_max_late_num=t5_s_weather[t5_s_weather['result']==1].groupby(['出天气'])['s_weather_flight_num_count'].agg('max').reset_index()\n",
    "    t5_s_weather_max_late_num.rename(columns={'s_weather_flight_num_count':'s_weather_flight_max_count'},inplace=True)\n",
    "    t5_s_weather_min_late_num=t5_s_weather[t5_s_weather['result']==1].groupby(['出天气'])['s_weather_flight_num_count'].agg('min').reset_index()\n",
    "    t5_s_weather_min_late_num.rename(columns={'s_weather_flight_num_count':'s_weather_flight_min_count'},inplace=True)\n",
    "    table_star_weather_feature=pd.merge(table_star_weather_feature,t5_s_weather_max_late_num,on='出天气',how='left').fillna(0)\n",
    "    table_star_weather_feature=pd.merge(table_star_weather_feature,t5_s_weather_min_late_num,on='出天气',how='left').fillna(0)\n",
    "    table_star_weather_feature['d_s_weather_flight_late_mean']=table_star_weather_feature.s_weather_late_count.astype('float')/table_star_weather_feature.s_weather_flight_num.astype('float')\n",
    "    return table_star_weather_feature"
   ]
  },
  {
   "cell_type": "code",
   "execution_count": null,
   "metadata": {
    "collapsed": true
   },
   "outputs": [],
   "source": [
    "table_star_weather_feature=table_star_weather_feature_get(train_x)"
   ]
  },
  {
   "cell_type": "markdown",
   "metadata": {},
   "source": [
    "# 到达机场天气的特征提取，不同天气航班的总次数，延误的总次数，目的机场的不同天气航班种类个数，延误的种类个数及其比重，目的机场天气的不同航班最大，最小，平均延误次数"
   ]
  },
  {
   "cell_type": "code",
   "execution_count": null,
   "metadata": {
    "collapsed": true
   },
   "outputs": [],
   "source": [
    "def table_arr_weather_feature_get(train_data):    \n",
    "    table_arr_weather_feature=train_data[['到天气']]\n",
    "    table_arr_weather_feature['a_weather_count']=1\n",
    "    table_arr_weather_feature=table_arr_weather_feature.groupby(['到天气']).agg('sum').reset_index()\n",
    "    t6=train_data[['到天气','result']]\n",
    "    t6['a_weather_late_count']=1\n",
    "    t6=t6.groupby(['到天气','result']).agg('sum').reset_index()\n",
    "    t6_late=t6[t6['result']==1]\n",
    "    t6_no_late=t6[t6['result']==0]\n",
    "    t6_no_late.rename(columns={'a_weather_late_count':'a_weather_no_late'},inplace=True)\n",
    "    table_arr_weather_feature=pd.merge(table_arr_weather_feature,t6_late.drop(['result'],axis=1),on='到天气',how='left').fillna(0)\n",
    "    table_arr_weather_feature=pd.merge(table_arr_weather_feature,t6_no_late.drop(['result'],axis=1),on='到天气',how='left').fillna(0)\n",
    "    table_arr_weather_feature['a_weather_late_rate']=table_arr_weather_feature.a_weather_late_count.astype('float')/table_arr_weather_feature.a_weather_count.astype('float')\n",
    "    t6_a_weather=train_data[['到天气','航班编号','result']]\n",
    "    t6_a_weather['a_weather_flight_num_count']=1\n",
    "    t6_a_weather=t6_a_weather.groupby(['到天气','航班编号','result']).agg('sum').reset_index()\n",
    "    t6_a_weather_flight_num=t6_a_weather.drop_duplicates(['到天气','航班编号']).groupby(['到天气'])['航班编号'].agg('count').reset_index()\n",
    "    t6_a_weather_flight_num_late=t6_a_weather[t6_a_weather['result']==1]\n",
    "    t6_a_weather_flight_num_late_num=t6_a_weather_flight_num_late.groupby(['到天气'])['航班编号'].agg('count').reset_index()\n",
    "    t6_a_weather_flight_num_late_num.rename(columns={'航班编号':'a_weather_flight_late_num'},inplace=True)\n",
    "    t6_a_weather_flight_num.rename(columns={'航班编号':'a_weather_flight_num'},inplace=True)\n",
    "    table_arr_weather_feature=pd.merge(table_arr_weather_feature,t6_a_weather_flight_num,on='到天气',how='left').fillna(0)\n",
    "    table_arr_weather_feature=pd.merge(table_arr_weather_feature,t6_a_weather_flight_num_late_num,on='到天气',how='left').fillna(0)\n",
    "    table_arr_weather_feature['d_a_weather_flight_late_rate']=table_arr_weather_feature.a_weather_flight_late_num.astype('float')/table_arr_weather_feature.a_weather_flight_num.astype('float')\n",
    "    t6_a_weather_max_late_num=t6_a_weather[t6_a_weather['result']==1].groupby(['到天气'])['a_weather_flight_num_count'].agg('max').reset_index()\n",
    "    t6_a_weather_max_late_num.rename(columns={'a_weather_flight_num_count':'a_weather_flight_max_count'},inplace=True)\n",
    "    t6_a_weather_min_late_num=t6_a_weather[t6_a_weather['result']==1].groupby(['到天气'])['a_weather_flight_num_count'].agg('min').reset_index()\n",
    "    t6_a_weather_min_late_num.rename(columns={'a_weather_flight_num_count':'a_weather_flight_min_count'},inplace=True)\n",
    "    table_arr_weather_feature=pd.merge(table_arr_weather_feature,t6_a_weather_max_late_num,on='到天气',how='left').fillna(0)\n",
    "    table_arr_weather_feature=pd.merge(table_arr_weather_feature,t6_a_weather_min_late_num,on='到天气',how='left').fillna(0)\n",
    "    table_arr_weather_feature['d_a_weather_flight_late_mean']=table_arr_weather_feature.a_weather_late_count.astype('float')/table_arr_weather_feature.a_weather_flight_num.astype('float')\n",
    "    return table_arr_weather_feature"
   ]
  },
  {
   "cell_type": "code",
   "execution_count": null,
   "metadata": {
    "collapsed": true
   },
   "outputs": [],
   "source": [
    "table_arr_weather_feature=table_arr_weather_feature_get(train_x)"
   ]
  },
  {
   "cell_type": "markdown",
   "metadata": {},
   "source": [
    "# 出发机场的特情信息的特征提取，特情信息的航班总次数，延误次数，延误率，不同航班的种类个数、延误的航班种类个数，以及所占的比重，不同航班的最大，最小，平均延误次数"
   ]
  },
  {
   "cell_type": "code",
   "execution_count": null,
   "metadata": {
    "collapsed": true
   },
   "outputs": [],
   "source": [
    "def table_star_inflect_feature_get(train_data):    \n",
    "    table_star_inflect_feature=train_data[['出_inflect']]\n",
    "    table_star_inflect_feature['s_inflect_count']=1\n",
    "    table_star_inflect_feature=table_star_inflect_feature.groupby(['出_inflect']).agg('sum').reset_index()\n",
    "    t7=train_data[['出_inflect','result']]\n",
    "    t7['s_inflect_late_count']=1\n",
    "    t7=t7.groupby(['出_inflect','result']).agg('sum').reset_index()\n",
    "    t7_late=t7[t7['result']==1]\n",
    "    t7_no_late=t7[t7['result']==0]\n",
    "    t7_no_late.rename(columns={'s_inflect_late_count':'s_inflect_no_late'},inplace=True)\n",
    "    table_star_inflect_feature=pd.merge(table_star_inflect_feature,t7_late.drop(['result'],axis=1),on='出_inflect',how='left').fillna(0)\n",
    "    table_star_inflect_feature=pd.merge(table_star_inflect_feature,t7_no_late.drop(['result'],axis=1),on='出_inflect',how='left').fillna(0)\n",
    "    table_star_inflect_feature['s_inflect_late_rate']=table_star_inflect_feature.s_inflect_late_count.astype('float')/table_star_inflect_feature.s_inflect_count.astype('float')\n",
    "    t7_s_inflect=train_data[['出_inflect','航班编号','result']]\n",
    "    t7_s_inflect['s_inflect_flight_num_count']=1\n",
    "    t7_s_inflect=t7_s_inflect.groupby(['出_inflect','航班编号','result']).agg('sum').reset_index()\n",
    "    t7_s_inflect_flight_num=t7_s_inflect.drop_duplicates(['出_inflect','航班编号']).groupby(['出_inflect'])['航班编号'].agg('count').reset_index()\n",
    "    t7_s_inflect_flight_num_late=t7_s_inflect[t7_s_inflect['result']==1]\n",
    "    t7_s_inflect_flight_num_late_num=t7_s_inflect_flight_num_late.groupby(['出_inflect'])['航班编号'].agg('count').reset_index()\n",
    "    t7_s_inflect_flight_num_late_num.rename(columns={'航班编号':'s_inflect_flight_late_num'},inplace=True)\n",
    "    t7_s_inflect_flight_num.rename(columns={'航班编号':'s_inflect_flight_num'},inplace=True)\n",
    "    table_star_inflect_feature=pd.merge(table_star_inflect_feature,t7_s_inflect_flight_num,on='出_inflect',how='left').fillna(0)\n",
    "    table_star_inflect_feature=pd.merge(table_star_inflect_feature,t7_s_inflect_flight_num_late_num,on='出_inflect',how='left').fillna(0)\n",
    "    table_star_inflect_feature['d_s_inflect_flight_late_rate']=table_star_inflect_feature.s_inflect_flight_late_num.astype('float')/table_star_inflect_feature.s_inflect_flight_num.astype('float')\n",
    "    t7_s_inflect_max_late_num=t7_s_inflect[t7_s_inflect['result']==1].groupby(['出_inflect'])['s_inflect_flight_num_count'].agg('max').reset_index()\n",
    "    t7_s_inflect_max_late_num.rename(columns={'s_inflect_flight_num_count':'s_inflect_flight_max_count'},inplace=True)\n",
    "    t7_s_inflect_min_late_num=t7_s_inflect[t7_s_inflect['result']==1].groupby(['出_inflect'])['s_inflect_flight_num_count'].agg('min').reset_index()\n",
    "    t7_s_inflect_min_late_num.rename(columns={'s_inflect_flight_num_count':'s_inflect_flight_min_count'},inplace=True)\n",
    "    table_star_inflect_feature=pd.merge(table_star_inflect_feature,t7_s_inflect_max_late_num,on='出_inflect',how='left').fillna(0)\n",
    "    table_star_inflect_feature=pd.merge(table_star_inflect_feature,t7_s_inflect_min_late_num,on='出_inflect',how='left').fillna(0)\n",
    "    table_star_inflect_feature['d_s_inflect_flight_late_mean']=table_star_inflect_feature.s_inflect_late_count.astype('float')/table_star_inflect_feature.s_inflect_flight_num.astype('float')\n",
    "    return table_star_inflect_feature"
   ]
  },
  {
   "cell_type": "code",
   "execution_count": null,
   "metadata": {
    "collapsed": true
   },
   "outputs": [],
   "source": [
    "table_star_inflect_feature=table_star_inflect_feature_get(train_x)"
   ]
  },
  {
   "cell_type": "markdown",
   "metadata": {},
   "source": [
    "# 到达机场的特情信息特征提取，特情信息的航班总次数，延误次数，延误率，不同航班航班的种类个数、延误的航班种类个数，以及所占的比重，不同航班的最大，最小，平均延误次数"
   ]
  },
  {
   "cell_type": "code",
   "execution_count": null,
   "metadata": {
    "collapsed": true
   },
   "outputs": [],
   "source": [
    "def table_arr_inflect_feature_get(train_data):    \n",
    "    table_arr_inflect_feature=train_data[['到_inflect']]\n",
    "    table_arr_inflect_feature['a_inflect_count']=1\n",
    "    table_arr_inflect_feature=table_arr_inflect_feature.groupby(['到_inflect']).agg('sum').reset_index()\n",
    "    t8=train_data[['到_inflect','result']]\n",
    "    t8['a_inflect_late_count']=1\n",
    "    t8=t8.groupby(['到_inflect','result']).agg('sum').reset_index()\n",
    "    t8_late=t8[t8['result']==1]\n",
    "    t8_no_late=t8[t8['result']==0]\n",
    "    t8_no_late.rename(columns={'a_inflect_late_count':'a_inflect_no_late'},inplace=True)\n",
    "    table_arr_inflect_feature=pd.merge(table_arr_inflect_feature,t8_late.drop(['result'],axis=1),on='到_inflect',how='left').fillna(0)\n",
    "    table_arr_inflect_feature=pd.merge(table_arr_inflect_feature,t8_no_late.drop(['result'],axis=1),on='到_inflect',how='left').fillna(0)\n",
    "    table_arr_inflect_feature['a_inflect_late_rate']=table_arr_inflect_feature.a_inflect_late_count.astype('float')/table_arr_inflect_feature.a_inflect_count.astype('float')\n",
    "    t8_a_inflect=train_data[['到_inflect','航班编号','result']]\n",
    "    t8_a_inflect['a_inflect_flight_num_count']=1\n",
    "    t8_a_inflect=t8_a_inflect.groupby(['到_inflect','航班编号','result']).agg('sum').reset_index()\n",
    "    t8_a_inflect_flight_num=t8_a_inflect.drop_duplicates(['到_inflect','航班编号']).groupby(['到_inflect'])['航班编号'].agg('count').reset_index()\n",
    "    t8_a_inflect_flight_num_late=t8_a_inflect[t8_a_inflect['result']==1]\n",
    "    t8_a_inflect_flight_num_late_num=t8_a_inflect_flight_num_late.groupby(['到_inflect'])['航班编号'].agg('count').reset_index()\n",
    "    t8_a_inflect_flight_num_late_num.rename(columns={'航班编号':'a_inflect_flight_late_num'},inplace=True)\n",
    "    t8_a_inflect_flight_num.rename(columns={'航班编号':'a_inflect_flight_num'},inplace=True)\n",
    "    table_arr_inflect_feature=pd.merge(table_arr_inflect_feature,t8_a_inflect_flight_num,on='到_inflect',how='left').fillna(0)\n",
    "    table_arr_inflect_feature=pd.merge(table_arr_inflect_feature,t8_a_inflect_flight_num_late_num,on='到_inflect',how='left').fillna(0)\n",
    "    table_arr_inflect_feature['d_a_inflect_flight_late_rate']=table_arr_inflect_feature.a_inflect_flight_late_num.astype('float')/table_arr_inflect_feature.a_inflect_flight_num.astype('float')\n",
    "    t8_a_inflect_max_late_num=t8_a_inflect[t8_a_inflect['result']==1].groupby(['到_inflect'])['a_inflect_flight_num_count'].agg('max').reset_index()\n",
    "    t8_a_inflect_max_late_num.rename(columns={'a_inflect_flight_num_count':'a_inflect_flight_max_count'},inplace=True)\n",
    "    t8_a_inflect_min_late_num=t8_a_inflect[t8_a_inflect['result']==1].groupby(['到_inflect'])['a_inflect_flight_num_count'].agg('min').reset_index()\n",
    "    t8_a_inflect_min_late_num.rename(columns={'a_inflect_flight_num_count':'a_inflect_flight_min_count'},inplace=True)\n",
    "    table_arr_inflect_feature=pd.merge(table_arr_inflect_feature,t8_a_inflect_max_late_num,on='到_inflect',how='left').fillna(0)\n",
    "    table_arr_inflect_feature=pd.merge(table_arr_inflect_feature,t8_a_inflect_min_late_num,on='到_inflect',how='left').fillna(0)\n",
    "    table_arr_inflect_feature['d_a_inflect_flight_late_mean']=table_arr_inflect_feature.a_inflect_late_count.astype('float')/table_arr_inflect_feature.a_inflect_flight_num.astype('float')\n",
    "    return table_arr_inflect_feature"
   ]
  },
  {
   "cell_type": "code",
   "execution_count": null,
   "metadata": {
    "collapsed": true
   },
   "outputs": [],
   "source": [
    "table_arr_inflect_feature=table_arr_inflect_feature_get(train_x)"
   ]
  },
  {
   "cell_type": "markdown",
   "metadata": {},
   "source": [
    "# 航班的出发机场特情信息特征提取，航班有特情信息的总次数、其中延误的总次数、延误率，航班没有特情的总次数，其中延误的总次数，延误率"
   ]
  },
  {
   "cell_type": "code",
   "execution_count": null,
   "metadata": {
    "collapsed": true
   },
   "outputs": [],
   "source": [
    "def flight_s_inflect_get(train_data):\n",
    "    t9_flight=train_data[['航班编号','出_inflect','result']]\n",
    "    t9_flight['flight_inflect_num_count']=1\n",
    "    t9_flight=t9_flight.groupby(['航班编号','出_inflect','result']).agg('sum').reset_index()\n",
    "    t9_flight1=t9_flight[t9_flight['出_inflect']==1]\n",
    "    t9_flight_s=t9_flight1.groupby(['航班编号'])['flight_inflect_num_count'].agg('sum').reset_index()\n",
    "    t9_inflect_s_late=t9_flight1[t9_flight1['result']==1]\n",
    "    t9_inflect_s_late=t9_inflect_s_late[['航班编号','flight_inflect_num_count']]\n",
    "    t9_inflect_s_late.rename(columns={'flight_inflect_num_count':'flight_inflect_late_num_count'},inplace=True)\n",
    "    t9_inflect_s_no_late=t9_flight1[t9_flight1['result']==0]\n",
    "    t9_inflect_s_no_late=t9_inflect_s_no_late[['航班编号','flight_inflect_num_count']]\n",
    "    t9_inflect_s_no_late.rename(columns={'flight_inflect_num_count':'flight_inflect_no_late_num_count'},inplace=True)\n",
    "    t9_flight_s=pd.merge(t9_flight_s,t9_inflect_s_late,on='航班编号',how='left').fillna(0)\n",
    "    t9_flight_s=pd.merge(t9_flight_s,t9_inflect_s_no_late,on='航班编号',how='left').fillna(0)\n",
    "    t9_flight_s['flight_s_inflect_late_rate']=t9_flight_s.flight_inflect_late_num_count.astype('float')/t9_flight_s.flight_inflect_num_count.astype('float')\n",
    "    \n",
    "    t9_flight2=t9_flight[t9_flight['出_inflect']==0]\n",
    "    t9_flight_no_s=t9_flight2.groupby(['航班编号'])['flight_inflect_num_count'].agg('sum').reset_index()    \n",
    "    t9_flight_no_s.rename(columns={'flight_inflect_num_count':'flight_no_inflect_num_count'},inplace=True)    \n",
    "    t9_flight_s=pd.merge(t9_flight_s,t9_flight_no_s,on='航班编号',how='left').fillna(0)\n",
    "    \n",
    "    t9_inflect_no_s_late=t9_flight2[t9_flight2['result']==1]    \n",
    "    t9_inflect_no_s_late=t9_inflect_no_s_late[['航班编号','flight_inflect_num_count']]    \n",
    "    t9_inflect_no_s_late.rename(columns={'flight_inflect_num_count':'flight_no_inflect_late_num_count'},inplace=True)    \n",
    "#     t9_flight_s=pd.merge(t9_flight_s,t9_inflect_no_s_late,on='航班编号',how='left').fillna(0)\n",
    "#     t9_flight_s=pd.merge(t9_flight_s,t9_inflect_no_s_no_late,on='航班编号',how='left').fillna(0)\n",
    "#     t9_flight_s['flight_no_s_inflect_late_rate']=t9_flight_s.flight_no_inflect_late_num_count.astype('float')/t9_flight_s.flight_no_inflect_late_num_count.astype('float')\n",
    "    t9_inflect_no_s_no_late=t9_flight2[t9_flight2['result']==0]\n",
    "    t9_inflect_no_s_no_late=t9_inflect_no_s_no_late[['航班编号','flight_inflect_num_count']]\n",
    "    t9_inflect_no_s_no_late.rename(columns={'flight_inflect_num_count':'flight_no_inflect_no_late_num_count'},inplace=True)\n",
    "    t9_flight_s=pd.merge(t9_flight_s,t9_inflect_no_s_late,on='航班编号',how='left').fillna(0)\n",
    "    t9_flight_s=pd.merge(t9_flight_s,t9_inflect_no_s_no_late,on='航班编号',how='left').fillna(0)\n",
    "    t9_flight_s['flight_no_s_inflect_late_rate']=t9_flight_s.flight_no_inflect_late_num_count.astype('float')/t9_flight_s.flight_no_inflect_num_count.astype('float')\n",
    "    return t9_flight_s"
   ]
  },
  {
   "cell_type": "code",
   "execution_count": null,
   "metadata": {
    "collapsed": true
   },
   "outputs": [],
   "source": [
    "table_flight_s_inflect=flight_s_inflect_get(train_x)"
   ]
  },
  {
   "cell_type": "markdown",
   "metadata": {},
   "source": [
    "# 航班的到达机场机场特情信息特征提取，航班有特情信息的总次数、其中延误的总次数、延误率，航班没有特情的总次数，其中延误的总次数，延误率"
   ]
  },
  {
   "cell_type": "code",
   "execution_count": null,
   "metadata": {
    "collapsed": true
   },
   "outputs": [],
   "source": [
    "def flight_a_inflect_get(train_data):\n",
    "    t9_flight=train_data[['航班编号','到_inflect','result']]\n",
    "    t9_flight['flight_a_inflect_num_count']=1\n",
    "    t9_flight=t9_flight.groupby(['航班编号','到_inflect','result']).agg('sum').reset_index()\n",
    "    t9_flight1=t9_flight[t9_flight['到_inflect']==1]\n",
    "    t9_flight_s=t9_flight1.groupby(['航班编号'])['flight_a_inflect_num_count'].agg('sum').reset_index()\n",
    "    t9_inflect_s_late=t9_flight1[t9_flight1['result']==1]\n",
    "    t9_inflect_s_late=t9_inflect_s_late[['航班编号','flight_a_inflect_num_count']]\n",
    "    t9_inflect_s_late.rename(columns={'flight_a_inflect_num_count':'flight_a_inflect_late_num_count'},inplace=True)\n",
    "    t9_inflect_s_no_late=t9_flight1[t9_flight1['result']==0]\n",
    "    t9_inflect_s_no_late=t9_inflect_s_no_late[['航班编号','flight_a_inflect_num_count']]\n",
    "    t9_inflect_s_no_late.rename(columns={'flight_a_inflect_num_count':'flight_a_inflect_no_late_num_count'},inplace=True)\n",
    "    t9_flight_s=pd.merge(t9_flight_s,t9_inflect_s_late,on='航班编号',how='left').fillna(0)\n",
    "    t9_flight_s=pd.merge(t9_flight_s,t9_inflect_s_no_late,on='航班编号',how='left').fillna(0)\n",
    "    t9_flight_s['flight_a_inflect_late_rate']=t9_flight_s.flight_a_inflect_late_num_count.astype('float')/t9_flight_s.flight_a_inflect_num_count.astype('float')\n",
    "    \n",
    "    t9_flight2=t9_flight[t9_flight['到_inflect']==0]\n",
    "    t9_flight_no_s=t9_flight2.groupby(['航班编号'])['flight_a_inflect_num_count'].agg('sum').reset_index()    \n",
    "    t9_flight_no_s.rename(columns={'flight_a_inflect_num_count':'flight_no_a_inflect_num_count'},inplace=True)    \n",
    "    t9_flight_s=pd.merge(t9_flight_s,t9_flight_no_s,on='航班编号',how='left').fillna(0)\n",
    "    \n",
    "    t9_inflect_no_s_late=t9_flight2[t9_flight2['result']==1]    \n",
    "    t9_inflect_no_s_late=t9_inflect_no_s_late[['航班编号','flight_a_inflect_num_count']]    \n",
    "    t9_inflect_no_s_late.rename(columns={'flight_a_inflect_num_count':'flight_no_a_inflect_late_num_count'},inplace=True)    \n",
    "    t9_inflect_no_s_no_late=t9_flight2[t9_flight2['result']==0]\n",
    "    t9_inflect_no_s_no_late=t9_inflect_no_s_no_late[['航班编号','flight_a_inflect_num_count']]\n",
    "    t9_inflect_no_s_no_late.rename(columns={'flight_a_inflect_num_count':'flight_no_a_inflect_no_late_num_count'},inplace=True)\n",
    "    t9_flight_s=pd.merge(t9_flight_s,t9_inflect_no_s_late,on='航班编号',how='left').fillna(0)\n",
    "    t9_flight_s=pd.merge(t9_flight_s,t9_inflect_no_s_no_late,on='航班编号',how='left').fillna(0)\n",
    "    t9_flight_s['flight_no_a_inflect_late_rate']=t9_flight_s.flight_no_a_inflect_late_num_count.astype('float')/t9_flight_s.flight_no_a_inflect_num_count.astype('float')\n",
    "    return t9_flight_s"
   ]
  },
  {
   "cell_type": "code",
   "execution_count": null,
   "metadata": {
    "collapsed": true
   },
   "outputs": [],
   "source": [
    "table_flight_a_inflect=flight_a_inflect_get(train_x)"
   ]
  },
  {
   "cell_type": "markdown",
   "metadata": {},
   "source": [
    "# 航班与天气的特征提取，航班在出发机场不同天气的航班的总次数，延误次数，延误率，以及不同航班天气的延误种类个数，及其比重，航班在不同出发机场天气的最大，最小，平均延误次数。航班在目的机场不同天气的航班总次数，延误次数，延误率，以及不同航班在不同天气的延误种类个数，所占的比重，航班在不同目的机场天气的最大，最小，平均延误次数"
   ]
  },
  {
   "cell_type": "code",
   "execution_count": null,
   "metadata": {
    "collapsed": true
   },
   "outputs": [],
   "source": [
    "def table_flight_weather_feature(train_data):\n",
    "    table_flight_feature=train_data[['航班编号']]\n",
    "    table_flight_feature['flight_count']=1\n",
    "    table_flight_feature=table_flight_feature.groupby(['航班编号']).agg('sum').reset_index()\n",
    "    t3=train_data[['航班编号','result']]\n",
    "    t3['flight_late_count']=1\n",
    "    t3=t3.groupby(['航班编号','result']).agg('sum').reset_index()\n",
    "    t3_late=t3[t3['result']==1]\n",
    "    t3_no_late=t3[t3['result']==0]\n",
    "    t3_no_late.rename(columns={'flight_late_count':'flight_no_late'},inplace=True)\n",
    "    table_flight_feature=pd.merge(table_flight_feature,t3_late.drop(['result'],axis=1),on='航班编号',how='left').fillna(0)\n",
    "    table_flight_feature=pd.merge(table_flight_feature,t3_no_late.drop(['result'],axis=1),on='航班编号',how='left').fillna(0)\n",
    "    table_flight_feature['flight_late_rate']=table_flight_feature.flight_late_count.astype('float')/table_flight_feature.flight_count.astype('float')\n",
    "    t3_flight=train_data[['航班编号','出天气','result']]\n",
    "    t3_flight['flight_s_weather_num_count']=1\n",
    "    t3_flight=t3_flight.groupby(['航班编号','出天气','result']).agg('sum').reset_index()\n",
    "    t3_flight_s_weather_num=t3_flight.drop_duplicates(['航班编号','出天气']).groupby(['航班编号'])['出天气'].agg('count').reset_index()\n",
    "    t3_flight_s_weather_num_late=t3_flight[t3_flight['result']==1]\n",
    "    t3_flight_s_weather_num_late_num=t3_flight_s_weather_num_late.groupby(['航班编号'])['出天气'].agg('count').reset_index()\n",
    "    t3_flight_s_weather_num_late_num.rename(columns={'出天气':'flight_s_weather_late_num'},inplace=True)\n",
    "    t3_flight_s_weather_num.rename(columns={'出天气':'flight_s_weather_num'},inplace=True)\n",
    "    table_flight_feature=pd.merge(table_flight_feature,t3_flight_s_weather_num,on='航班编号',how='left').fillna(0)\n",
    "    table_flight_feature=pd.merge(table_flight_feature,t3_flight_s_weather_num_late_num,on='航班编号',how='left').fillna(0)\n",
    "    table_flight_feature['d_s_weather_flight_late_rate']=table_flight_feature.flight_s_weather_late_num.astype('float')/table_flight_feature.flight_s_weather_num.astype('float')\n",
    "    t3_flight_max_late_num=t3_flight[t3_flight['result']==1].groupby(['航班编号'])['flight_s_weather_num_count'].agg('max').reset_index()\n",
    "    t3_flight_max_late_num.rename(columns={'flight_s_weather_num_count':'flight_s_weather_max_count'},inplace=True)\n",
    "    t3_flight_min_late_num=t3_flight[t3_flight['result']==1].groupby(['航班编号'])['flight_s_weather_num_count'].agg('min').reset_index()\n",
    "    t3_flight_min_late_num.rename(columns={'flight_s_weather_num_count':'flight_s_weather_min_count'},inplace=True)\n",
    "    table_flight_feature=pd.merge(table_flight_feature,t3_flight_max_late_num,on='航班编号',how='left').fillna(0)\n",
    "    table_flight_feature=pd.merge(table_flight_feature,t3_flight_min_late_num,on='航班编号',how='left').fillna(0)\n",
    "    table_flight_feature['d_s_weather_flight_late_mean']=table_flight_feature.flight_late_count.astype('float')/table_flight_feature.flight_s_weather_num.astype('float')\n",
    "    t3_flight1=train_data[['航班编号','到天气','result']]\n",
    "    t3_flight1['flight_a_weather_num_count']=1\n",
    "    t3_flight1=t3_flight1.groupby(['航班编号','到天气','result']).agg('sum').reset_index()\n",
    "    t3_flight_a_weather_num=t3_flight1.drop_duplicates(['航班编号','到天气']).groupby(['航班编号'])['到天气'].agg('count').reset_index()\n",
    "    t3_flight_a_weather_num_late=t3_flight1[t3_flight1['result']==1]\n",
    "    t3_flight_a_weather_num_late_num=t3_flight_a_weather_num_late.groupby(['航班编号'])['到天气'].agg('count').reset_index()\n",
    "    t3_flight_a_weather_num_late_num.rename(columns={'到天气':'flight_a_weather_late_num'},inplace=True)\n",
    "    t3_flight_a_weather_num.rename(columns={'到天气':'flight_a_weather_num'},inplace=True)\n",
    "    table_flight_feature=pd.merge(table_flight_feature,t3_flight_a_weather_num,on='航班编号',how='left').fillna(0)\n",
    "    table_flight_feature=pd.merge(table_flight_feature,t3_flight_a_weather_num_late_num,on='航班编号',how='left').fillna(0)\n",
    "    table_flight_feature['d_a_weather_flight_late_rate']=table_flight_feature.flight_a_weather_late_num.astype('float')/table_flight_feature.flight_a_weather_num.astype('float')\n",
    "    t3_flight_max_late_num1=t3_flight1[t3_flight1['result']==1].groupby(['航班编号'])['flight_a_weather_num_count'].agg('max').reset_index()\n",
    "    t3_flight_max_late_num1.rename(columns={'flight_a_weather_num_count':'flight_a_weather_max_count'},inplace=True)\n",
    "    t3_flight_min_late_num1=t3_flight1[t3_flight1['result']==1].groupby(['航班编号'])['flight_a_weather_num_count'].agg('min').reset_index()\n",
    "    t3_flight_min_late_num1.rename(columns={'flight_a_weather_num_count':'flight_a_weather_min_count'},inplace=True)\n",
    "    table_flight_feature=pd.merge(table_flight_feature,t3_flight_max_late_num1,on='航班编号',how='left').fillna(0)\n",
    "    table_flight_feature=pd.merge(table_flight_feature,t3_flight_min_late_num1,on='航班编号',how='left').fillna(0)\n",
    "    table_flight_feature['d_a_weather_flight_late_mean']=table_flight_feature.flight_late_count.astype('float')/table_flight_feature.flight_a_weather_num.astype('float')\n",
    "    return table_flight_feature.drop(['flight_count','flight_late_count','flight_no_late','flight_late_rate'],axis=1)"
   ]
  },
  {
   "cell_type": "code",
   "execution_count": null,
   "metadata": {
    "collapsed": true
   },
   "outputs": [],
   "source": [
    "table_flight_weather=table_flight_weather_feature(train_x)"
   ]
  },
  {
   "cell_type": "markdown",
   "metadata": {},
   "source": [
    "# 一天中不同时间的特征提取，不同时间的总次数，延误次数，不同时间的延误率，不同时间，航班的种类个数，延误航班的种类个数，及其占的比重，不同时间航班的最大，最小，平均延误次数"
   ]
  },
  {
   "cell_type": "code",
   "execution_count": null,
   "metadata": {
    "collapsed": true
   },
   "outputs": [],
   "source": [
    "def table_time_feature_get(train_data):    \n",
    "    table_plane_feature=train_data[['take_hour','take_minute']]\n",
    "    table_plane_feature['time_count']=1\n",
    "    table_plane_feature=table_plane_feature.groupby(['take_hour','take_minute']).agg('sum').reset_index()\n",
    "    t4=train_data[['take_hour','take_minute','result']]\n",
    "    t4['time_late_count']=1\n",
    "    t4=t4.groupby(['take_hour','take_minute','result']).agg('sum').reset_index()\n",
    "    t4_late=t4[t4['result']==1]\n",
    "    t4_no_late=t4[t4['result']==0]\n",
    "    t4_no_late.rename(columns={'time_late_count':'time_no_late'},inplace=True)\n",
    "    table_plane_feature=pd.merge(table_plane_feature,t4_late.drop(['result'],axis=1),on=['take_hour','take_minute'],how='left').fillna(0)\n",
    "    table_plane_feature=pd.merge(table_plane_feature,t4_no_late.drop(['result'],axis=1),on=['take_hour','take_minute'],how='left').fillna(0)\n",
    "    table_plane_feature['time_late_rate']=table_plane_feature.time_late_count.astype('float')/table_plane_feature.time_count.astype('float')\n",
    "    t4_plane=train_data[['take_hour','take_minute','航班编号','result']]\n",
    "    t4_plane['time_flight_num_count']=1\n",
    "    t4_plane=t4_plane.groupby(['take_hour','take_minute','航班编号','result']).agg('sum').reset_index()\n",
    "    t4_plane_flight_num=t4_plane.drop_duplicates(['take_hour','take_minute','航班编号']).groupby(['take_hour','take_minute'])['航班编号'].agg('count').reset_index()\n",
    "    t4_plane_flight_num_late=t4_plane[t4_plane['result']==1]\n",
    "    t4_plane_flight_num_late_num=t4_plane_flight_num_late.groupby(['take_hour','take_minute'])['航班编号'].agg('count').reset_index()\n",
    "    t4_plane_flight_num_late_num.rename(columns={'航班编号':'time_flight_late_num'},inplace=True)\n",
    "    t4_plane_flight_num.rename(columns={'航班编号':'time_flight_num'},inplace=True)\n",
    "    table_plane_feature=pd.merge(table_plane_feature,t4_plane_flight_num,on=['take_hour','take_minute'],how='left').fillna(0)\n",
    "    table_plane_feature=pd.merge(table_plane_feature,t4_plane_flight_num_late_num,on=['take_hour','take_minute'],how='left').fillna(0)\n",
    "    table_plane_feature['d_time_flight_late_rate']=table_plane_feature.time_flight_late_num.astype('float')/table_plane_feature.time_flight_num.astype('float')\n",
    "    t4_plane_max_late_num=t4_plane[t4_plane['result']==1].groupby(['take_hour','take_minute'])['time_flight_num_count'].agg('max').reset_index()\n",
    "    t4_plane_max_late_num.rename(columns={'time_flight_num_count':'time_flight_max_count'},inplace=True)\n",
    "    t4_plane_min_late_num=t4_plane[t4_plane['result']==1].groupby(['take_hour','take_minute'])['time_flight_num_count'].agg('min').reset_index()\n",
    "    t4_plane_min_late_num.rename(columns={'time_flight_num_count':'time_flight_min_count'},inplace=True)\n",
    "    table_plane_feature=pd.merge(table_plane_feature,t4_plane_max_late_num,on=['take_hour','take_minute'],how='left').fillna(0)\n",
    "    table_plane_feature=pd.merge(table_plane_feature,t4_plane_min_late_num,on=['take_hour','take_minute'],how='left').fillna(0)\n",
    "    table_plane_feature['d_time_flight_late_mean']=table_plane_feature.time_late_count.astype('float')/table_plane_feature.time_flight_num.astype('float')\n",
    "    return table_plane_feature"
   ]
  },
  {
   "cell_type": "code",
   "execution_count": null,
   "metadata": {
    "collapsed": true
   },
   "outputs": [],
   "source": [
    "table_time_feature=table_time_feature_get(train_x)"
   ]
  },
  {
   "cell_type": "markdown",
   "metadata": {},
   "source": [
    "# 将得到的各种特征信息与得到的训练数据和测试数据，通过表连接的方式整合，构成最终的训练集合测试集"
   ]
  },
  {
   "cell_type": "code",
   "execution_count": null,
   "metadata": {
    "collapsed": true
   },
   "outputs": [],
   "source": [
    "print(test_x.shape)\n",
    "test_x=pd.merge(test_x,table_star_airport,on='出发机场',how='left')\n",
    "print(test_x.shape)\n",
    "test_x=pd.merge(test_x,table_arr_airport,on='到达机场',how='left')\n",
    "print(test_x.shape)\n",
    "test_x=pd.merge(test_x,table_flight_feature,on='航班编号',how='left')\n",
    "print(test_x.shape)\n",
    "test_x=pd.merge(test_x,table_plane_feature,on='飞机编号',how='left')\n",
    "print(test_x.shape)\n",
    "test_x=pd.merge(test_x,table_star_weather_feature,on='出天气',how='left')\n",
    "print(test_x.shape)\n",
    "test_x=pd.merge(test_x,table_arr_weather_feature,on='到天气',how='left')\n",
    "print(test_x.shape)\n",
    "test_x=pd.merge(test_x,table_arr_inflect_feature,on='到_inflect',how='left')\n",
    "print(test_x.shape)\n",
    "test_x=pd.merge(test_x,table_star_inflect_feature,on='出_inflect',how='left')\n",
    "print(test_x.shape)\n",
    "test_x=pd.merge(test_x,table_flight_a_inflect,on='航班编号',how='left')\n",
    "print(test_x.shape)\n",
    "test_x=pd.merge(test_x,table_flight_s_inflect,on='航班编号',how='left')\n",
    "print(test_x.shape)\n",
    "test_x=pd.merge(test_x,table_flight_weather,on='航班编号',how='left')\n",
    "print(test_x.shape)\n",
    "test_x=pd.merge(test_x,table_time_feature,on=['take_hour','take_minute'],how='left')\n",
    "print(test_x.shape)"
   ]
  },
  {
   "cell_type": "code",
   "execution_count": null,
   "metadata": {
    "collapsed": true
   },
   "outputs": [],
   "source": [
    "test_x_s=test_x.drop([ '出发机场','到达机场', '航班编号'],axis=1)"
   ]
  },
  {
   "cell_type": "code",
   "execution_count": null,
   "metadata": {
    "collapsed": true
   },
   "outputs": [],
   "source": [
    "test_x_s.to_csv('test_x.csv',sep=',',header=True,index=False,encoding='utf-8')"
   ]
  },
  {
   "cell_type": "code",
   "execution_count": null,
   "metadata": {
    "collapsed": true
   },
   "outputs": [],
   "source": [
    "print(train_x.shape)\n",
    "train_x=pd.merge(train_x,table_star_airport,on='出发机场',how='left')\n",
    "print(train_x.shape)\n",
    "train_x=pd.merge(train_x,table_arr_airport,on='到达机场',how='left')\n",
    "print(train_x.shape)\n",
    "train_x=pd.merge(train_x,table_flight_feature,on='航班编号',how='left')\n",
    "print(train_x.shape)\n",
    "train_x=pd.merge(train_x,table_plane_feature,on='飞机编号',how='left')\n",
    "print(train_x.shape)\n",
    "train_x=pd.merge(train_x,table_star_weather_feature,on='出天气',how='left')\n",
    "print(train_x.shape)\n",
    "train_x=pd.merge(train_x,table_arr_weather_feature,on='到天气',how='left')\n",
    "print(train_x.shape)\n",
    "train_x=pd.merge(train_x,table_arr_inflect_feature,on='到_inflect',how='left')\n",
    "print(train_x.shape)\n",
    "train_x=pd.merge(train_x,table_star_inflect_feature,on='出_inflect',how='left')\n",
    "print(train_x.shape)\n",
    "train_x=pd.merge(train_x,table_flight_a_inflect,on='航班编号',how='left')\n",
    "print(train_x.shape)\n",
    "train_x=pd.merge(train_x,table_flight_s_inflect,on='航班编号',how='left')\n",
    "print(train_x.shape)\n",
    "train_x=pd.merge(train_x,table_flight_weather,on='航班编号',how='left')\n",
    "print(train_x.shape)\n",
    "train_x=pd.merge(train_x,table_time_feature,on=['take_hour','take_minute'],how='left')\n",
    "print(train_x.shape)"
   ]
  },
  {
   "cell_type": "code",
   "execution_count": null,
   "metadata": {
    "collapsed": true
   },
   "outputs": [],
   "source": [
    "train_x=train_x.drop([ '出发机场','到达机场', '航班编号'],axis=1)\n",
    "train_x.to_csv('train_x.csv',sep=',',header=True,index=False,encoding='utf-8')"
   ]
  }
 ],
 "metadata": {
  "anaconda-cloud": {},
  "kernelspec": {
   "display_name": "Python [default]",
   "language": "python",
   "name": "python3"
  },
  "language_info": {
   "codemirror_mode": {
    "name": "ipython",
    "version": 3
   },
   "file_extension": ".py",
   "mimetype": "text/x-python",
   "name": "python",
   "nbconvert_exporter": "python",
   "pygments_lexer": "ipython3",
   "version": "3.5.2"
  }
 },
 "nbformat": 4,
 "nbformat_minor": 2
}
