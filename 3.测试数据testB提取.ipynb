{
 "cells": [
  {
   "cell_type": "code",
   "execution_count": 1,
   "metadata": {
    "collapsed": true
   },
   "outputs": [],
   "source": [
    "import pandas as pd\n",
    "import numpy as np\n",
    "import time\n",
    "from tqdm import tqdm\n",
    "import datetime as datetime"
   ]
  },
  {
   "cell_type": "code",
   "execution_count": 2,
   "metadata": {
    "collapsed": true
   },
   "outputs": [],
   "source": [
    "weathe=pd.read_excel('./测试集B/2017年7月城市天气详单.xlsx')\n",
    "train=pd.read_csv('./测试集B/201707测试数据.csv',encoding='gbk')\n",
    "airport=pd.read_excel('./测试集B/机场城市对应表.xlsx')\n",
    "news=pd.read_excel('./测试集B/2017年7月特情数据详单.xlsx')"
   ]
  },
  {
   "cell_type": "markdown",
   "metadata": {},
   "source": [
    "# 对测试集B的测试数据进行整理，方法与对测试集A的方法相同"
   ]
  },
  {
   "cell_type": "code",
   "execution_count": 3,
   "metadata": {
    "collapsed": true
   },
   "outputs": [],
   "source": [
    "def train_data_get(df):\n",
    "    time_list=['计划起飞时间','计划到达时间']\n",
    "    for j in time_list:\n",
    "        tmp=df[j].fillna(0).astype('int64')\n",
    "        stmp=[]\n",
    "        for i in tqdm(tmp):\n",
    "            timelocal=time.localtime(i)\n",
    "            stmp.append(time.strftime('%Y-%m-%d %H:%M:%S', timelocal))\n",
    "        df[j+'stand']=stmp\n",
    "    df['company']=df['航班编号'].apply(lambda x: x[:2])\n",
    "    df['from']=df['航班编号'].apply(lambda x: x[2:3])\n",
    "    df['to']=df['航班编号'].apply(lambda x: x[3:4])\n",
    "    df['times']=df['航班编号'].apply(lambda x: x[4:5])\n",
    "    df['go_to']=df['航班编号'].apply(lambda x: x[5:])\n",
    "    df['year']=df['计划起飞时间stand'].apply(lambda x: x[:4])\n",
    "    df['month']=df['计划起飞时间stand'].apply(lambda x: x[5:7])\n",
    "    df['day']=df['计划起飞时间stand'].apply(lambda x: x[8:10])\n",
    "    df['take_hour']=df['计划起飞时间stand'].apply(lambda x: x[11:13])\n",
    "    df['take_minute']=df['计划起飞时间stand'].apply(lambda x: x[14:16])\n",
    "    df['off_hour']=df['计划到达时间stand'].apply(lambda x: x[11:13])\n",
    "    df['off_minute']=df['计划到达时间stand'].apply(lambda x: x[14:16])    \n",
    "    df['出发日期']=pd.to_datetime(df['计划起飞时间stand'].apply(lambda x: x[:10]))\n",
    "    df['到达日期']=pd.to_datetime(df['计划到达时间stand'].apply(lambda x: x[:10]))\n",
    "    train_data=df.drop(['实际起飞时间','实际到达时间','取消标识'],axis=1)\n",
    "    return train_data"
   ]
  },
  {
   "cell_type": "code",
   "execution_count": 4,
   "metadata": {
    "collapsed": true
   },
   "outputs": [],
   "source": [
    "def weather_data_get(airport_info,weathe):\n",
    "    airport_info.rename(columns={'城市名称':'城市'},inplace=True)\n",
    "    weathe.rename(columns={'机场':'城市'},inplace=True)\n",
    "    weather_data=weathe.drop_duplicates(['城市','日期'])\n",
    "    new_weather_data=airport_info.merge(weather_data,on='城市',how='left')\n",
    "    return new_weather_data\n",
    "def star_weather_data_get(df):\n",
    "    star_weather_data=pd.DataFrame()\n",
    "    star_weather_data['出发机场']=df['机场编码']\n",
    "    star_weather_data['出天气']=df['天气']\n",
    "    star_weather_data['出min']=df['最低气温']\n",
    "    star_weather_data['出max']=df['最高气温']\n",
    "    star_weather_data['出发日期']=pd.to_datetime(new_weather_data['日期'])\n",
    "    return star_weather_data\n",
    "def arrival_weather_data_get(df):\n",
    "    arrive_weather_data=pd.DataFrame()\n",
    "    arrive_weather_data['到达机场']=df['机场编码']\n",
    "    arrive_weather_data['到天气']=df['天气']\n",
    "    arrive_weather_data['到min']=df['最低气温']\n",
    "    arrive_weather_data['到max']=df['最高气温']\n",
    "    arrive_weather_data['到达日期']=pd.to_datetime(df['日期'])\n",
    "    return arrive_weather_data"
   ]
  },
  {
   "cell_type": "code",
   "execution_count": 5,
   "metadata": {
    "collapsed": true
   },
   "outputs": [],
   "source": [
    "def news_data_get(df):\n",
    "    list_1=df['机场'].astype('str')\n",
    "    list_2=[]\n",
    "    for i in tqdm(list_1):\n",
    "        u=i.upper()\n",
    "        list_2.append(u)\n",
    "    df['机场编码']=list_2\n",
    "    df['日期']=pd.to_datetime(df['开始时间'].astype('str').apply(lambda x: x[:10]))\n",
    "    df['收集时间stand']=pd.to_datetime(df['采集时间'])\n",
    "    df['star']=pd.to_datetime(df['开始时间'])\n",
    "    df['end']=pd.to_datetime(df['结束时间'])\n",
    "    df['差值']=(df['end']-df['star'])\n",
    "    df=df[(df['差值']>='00:00:00')&(df['差值']<='23:59:59')]\n",
    "    df['hour']=df['差值'].astype('str').apply(lambda x: x[7:9]).astype(int)\n",
    "    df['minutes']=df['差值'].astype('str').apply(lambda x: x[10:12]).astype(int)\n",
    "    df['set']=df['hour']*60+df['minutes']  \n",
    "    return df\n",
    "def star_news_get(df):\n",
    "    star_news_data=pd.DataFrame()\n",
    "    star_news_data['出发机场']=df['机场编码']\n",
    "    star_news_data['出set']=df['set']\n",
    "    star_news_data['出收集时间']=df['收集时间stand']\n",
    "    star_news_data['出开始']=df['star']\n",
    "    star_news_data['出结束']=df['end']\n",
    "    star_news_data['出发日期']=df['日期']\n",
    "    return star_news_data\n",
    "def arrival_news_get(df):\n",
    "    arrive_news_data=pd.DataFrame()\n",
    "    arrive_news_data['到达机场']=df['机场编码']\n",
    "    arrive_news_data['到set']=df['set']\n",
    "    arrive_news_data['到收集时间']=df['收集时间stand']\n",
    "    arrive_news_data['到开始']=df['star']\n",
    "    arrive_news_data['到结束']=df['end']\n",
    "    arrive_news_data['到达日期']=df['日期']\n",
    "    return arrive_news_data"
   ]
  },
  {
   "cell_type": "code",
   "execution_count": 6,
   "metadata": {
    "collapsed": true
   },
   "outputs": [],
   "source": [
    "def data_organization(train_data,star_new,arrive_new,star_weather,arrive_weather):\n",
    "    print(train_data.shape)\n",
    "    train_data_1=pd.merge(train_data,star_weather,on=['出发机场','出发日期'],how='left')\n",
    "    print(train_data_1.shape)\n",
    "    train_data_2=pd.merge(train_data_1,arrive_weather,on=['到达机场','到达日期'],how='left')\n",
    "    print(train_data_2.shape)\n",
    "    train_data_3=pd.merge(train_data_2,star_new,on=['出发机场','出发日期'],how='left')\n",
    "    print(train_data_3.shape)\n",
    "    train_data_4=pd.merge(train_data_3,arrive_new,on=['到达机场','到达日期'],how='left')\n",
    "    print(train_data_4.shape)\n",
    "    return train_data_4"
   ]
  },
  {
   "cell_type": "code",
   "execution_count": 7,
   "metadata": {
    "collapsed": false
   },
   "outputs": [
    {
     "name": "stderr",
     "output_type": "stream",
     "text": [
      "100%|██████████████████████████████| 183931/183931 [00:01<00:00, 123519.48it/s]\n",
      "100%|██████████████████████████████| 183931/183931 [00:01<00:00, 116184.76it/s]\n"
     ]
    }
   ],
   "source": [
    "train_data=train_data_get(train)"
   ]
  },
  {
   "cell_type": "code",
   "execution_count": 8,
   "metadata": {
    "collapsed": true
   },
   "outputs": [],
   "source": [
    "new_weather_data=weather_data_get(airport,weathe)"
   ]
  },
  {
   "cell_type": "code",
   "execution_count": 9,
   "metadata": {
    "collapsed": true
   },
   "outputs": [],
   "source": [
    "star_weather_data=star_weather_data_get(new_weather_data)"
   ]
  },
  {
   "cell_type": "code",
   "execution_count": 10,
   "metadata": {
    "collapsed": true
   },
   "outputs": [],
   "source": [
    "arrival_weather_data=arrival_weather_data_get(new_weather_data)"
   ]
  },
  {
   "cell_type": "code",
   "execution_count": 11,
   "metadata": {
    "collapsed": false
   },
   "outputs": [
    {
     "name": "stderr",
     "output_type": "stream",
     "text": [
      "100%|████████████████████████████████████████████████| 108/108 [00:00<?, ?it/s]\n"
     ]
    }
   ],
   "source": [
    "news_data=news_data_get(news)"
   ]
  },
  {
   "cell_type": "code",
   "execution_count": 12,
   "metadata": {
    "collapsed": true
   },
   "outputs": [],
   "source": [
    "star_news_data=star_news_get(news_data)"
   ]
  },
  {
   "cell_type": "code",
   "execution_count": 13,
   "metadata": {
    "collapsed": true
   },
   "outputs": [],
   "source": [
    "arrival_news_data=arrival_news_get(news_data)"
   ]
  },
  {
   "cell_type": "code",
   "execution_count": 14,
   "metadata": {
    "collapsed": true
   },
   "outputs": [],
   "source": [
    "train_data_1=train_data[train_data['验证标识（1：需要选手预测；0：提前两小时航班信息参考数据）']==1]"
   ]
  },
  {
   "cell_type": "code",
   "execution_count": 15,
   "metadata": {
    "collapsed": false
   },
   "outputs": [
    {
     "name": "stdout",
     "output_type": "stream",
     "text": [
      "(21368, 23)\n",
      "(21368, 26)\n",
      "(21368, 29)\n",
      "(21793, 33)\n",
      "(22271, 37)\n"
     ]
    }
   ],
   "source": [
    "test_x=data_organization(train_data_1,star_news_data,arrival_news_data,star_weather_data,arrival_weather_data)"
   ]
  },
  {
   "cell_type": "code",
   "execution_count": 16,
   "metadata": {
    "collapsed": true
   },
   "outputs": [],
   "source": [
    "test_x['出_rule']=(pd.to_datetime(test_x['计划起飞时间stand'])-pd.to_datetime(test_x['出收集时间'])).fillna(0)\n",
    "test_x['到_rule']=pd.to_datetime(test_x['计划起飞时间stand'])-pd.to_datetime(test_x['到收集时间']).fillna(0)\n",
    "test_x['出_上界']=(pd.to_datetime(test_x['出开始'])-pd.to_datetime(test_x['计划起飞时间stand'])).fillna(0)\n",
    "test_x['出_下界']=(pd.to_datetime(test_x['出结束'])-pd.to_datetime(test_x['计划起飞时间stand'])).fillna(0)\n",
    "test_x['到_上界']=pd.to_datetime(test_x['出开始'])-pd.to_datetime(test_x['计划到达时间stand']).fillna(0)   #testB问题所在\n",
    "test_x['到_下界']=pd.to_datetime(test_x['出结束'])-pd.to_datetime(test_x['计划到达时间stand']).fillna(0)  #testB问题所在"
   ]
  },
  {
   "cell_type": "code",
   "execution_count": 17,
   "metadata": {
    "collapsed": true
   },
   "outputs": [],
   "source": [
    "list_1=[]\n",
    "for i in range(len(test_x)):\n",
    "    if (test_x['出_rule'].values[i]>=np.timedelta64(7200000000000,'ns'))&(test_x['出_上界'].values[i]<=np.timedelta64(0,'ns'))&(test_x['出_下界'].values[i]>=np.timedelta64(0,'ns')):\n",
    "        list_1.append(1)\n",
    "    else:\n",
    "        list_1.append(0)\n",
    "test_x['出_inflect']=list_1"
   ]
  },
  {
   "cell_type": "code",
   "execution_count": 18,
   "metadata": {
    "collapsed": false
   },
   "outputs": [
    {
     "name": "stderr",
     "output_type": "stream",
     "text": [
      "D:\\Anaconda3\\lib\\site-packages\\ipykernel\\__main__.py:3: FutureWarning: In the future, 'NAT <= x' and 'x <= NAT' will always be False.\n",
      "  app.launch_new_instance()\n"
     ]
    }
   ],
   "source": [
    "list_2=[]\n",
    "for i in range(len(test_x)):\n",
    "    if (test_x['到_rule'].values[i]>=np.timedelta64(7200000000000,'ns'))&(test_x['到_上界'].values[i]<=np.timedelta64(0,'ns'))&(test_x['到_下界'].values[i]>=np.timedelta64(0,'ns')):\n",
    "        list_2.append(1)\n",
    "    else:\n",
    "        list_2.append(0)\n",
    "test_x['到_inflect']=list_2"
   ]
  },
  {
   "cell_type": "code",
   "execution_count": 19,
   "metadata": {
    "collapsed": true
   },
   "outputs": [],
   "source": [
    "train_new_x=test_x[['出发机场', '到达机场', '航班编号', '计划起飞时间', '计划到达时间', '飞机编号',\n",
    "       '计划起飞时间stand', '计划到达时间stand', 'company', 'from', 'to', 'times',\n",
    "       'go_to', 'year', 'month', 'day', 'take_hour', 'take_minute',\n",
    "       'off_hour', 'off_minute', '出发日期', '到达日期', '出天气', '出min', '出max',\n",
    "       '到天气', '到min', '到max', '出set',  '到set',\n",
    "       '出_inflect', '到_inflect']]"
   ]
  },
  {
   "cell_type": "code",
   "execution_count": 20,
   "metadata": {
    "collapsed": true
   },
   "outputs": [],
   "source": [
    "train_new_x.to_csv('testB_ready.csv',sep=',',header=True,index=False)"
   ]
  },
  {
   "cell_type": "code",
   "execution_count": null,
   "metadata": {
    "collapsed": true
   },
   "outputs": [],
   "source": []
  }
 ],
 "metadata": {
  "kernelspec": {
   "display_name": "Python [default]",
   "language": "python",
   "name": "python3"
  },
  "language_info": {
   "codemirror_mode": {
    "name": "ipython",
    "version": 3
   },
   "file_extension": ".py",
   "mimetype": "text/x-python",
   "name": "python",
   "nbconvert_exporter": "python",
   "pygments_lexer": "ipython3",
   "version": "3.5.2"
  }
 },
 "nbformat": 4,
 "nbformat_minor": 2
}
